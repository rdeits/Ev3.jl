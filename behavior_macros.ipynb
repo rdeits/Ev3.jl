{
 "cells": [
  {
   "cell_type": "code",
   "execution_count": 85,
   "metadata": {
    "collapsed": true
   },
   "outputs": [],
   "source": [
    "workspace()"
   ]
  },
  {
   "cell_type": "code",
   "execution_count": 86,
   "metadata": {
    "collapsed": false
   },
   "outputs": [],
   "source": [
    "type Transition\n",
    "    check::Function\n",
    "    destination\n",
    "end\n",
    "\n",
    "type Behavior\n",
    "    args\n",
    "    action::Function\n",
    "    transitions::Vector{Transition}\n",
    "end"
   ]
  },
  {
   "cell_type": "code",
   "execution_count": 106,
   "metadata": {
    "collapsed": false
   },
   "outputs": [
    {
     "data": {
      "text/plain": [
       "Behavior"
      ]
     },
     "execution_count": 106,
     "metadata": {},
     "output_type": "execute_result"
    }
   ],
   "source": [
    "macro Behavior(args, action)\n",
    "    return quote\n",
    "        Behavior(args, $(args) -> $(action), [])\n",
    "    end\n",
    "end\n",
    "\n",
    "macro add_transition!(behavior, dest, args, body)\n",
    "    return quote\n",
    "        t = Transition(esc($(plus.args).args -> $(body), $(dest)))\n",
    "        push!($(behavior).transitions, t)\n",
    "    end\n",
    "end\n",
    "\n",
    "function Behavior(args, body)\n",
    "    @eval Behavior(esc(args), $(args) -> $(body), [])\n",
    "end"
   ]
  },
  {
   "cell_type": "code",
   "execution_count": 107,
   "metadata": {
    "collapsed": false
   },
   "outputs": [
    {
     "ename": "LoadError",
     "evalue": "LoadError: UndefVarError: args not defined\nwhile loading In[107], in expression starting on line 1",
     "output_type": "error",
     "traceback": [
      "LoadError: UndefVarError: args not defined\nwhile loading In[107], in expression starting on line 1",
      "",
      " in call at In[106]:15"
     ]
    }
   ],
   "source": [
    "plus = Behavior(:(x::Float64, y), :(x + y))"
   ]
  },
  {
   "cell_type": "code",
   "execution_count": 90,
   "metadata": {
    "collapsed": false
   },
   "outputs": [
    {
     "ename": "LoadError",
     "evalue": "LoadError: UndefVarError: args not defined\nwhile loading In[90], in expression starting on line 3",
     "output_type": "error",
     "traceback": [
      "LoadError: UndefVarError: args not defined\nwhile loading In[90], in expression starting on line 3",
      ""
     ]
    }
   ],
   "source": [
    "plus = @Behavior (x::Float64, y) x + y\n",
    "minus = @Behavior (x::Float64, y) x - y"
   ]
  },
  {
   "cell_type": "code",
   "execution_count": 101,
   "metadata": {
    "collapsed": false
   },
   "outputs": [
    {
     "data": {
      "text/plain": [
       "(anonymous function)"
      ]
     },
     "execution_count": 101,
     "metadata": {},
     "output_type": "execute_result"
    }
   ],
   "source": [
    "plus.action"
   ]
  },
  {
   "cell_type": "code",
   "execution_count": 80,
   "metadata": {
    "collapsed": false
   },
   "outputs": [
    {
     "data": {
      "text/plain": [
       ":($(Expr(:error, \"\\\"Array{Any, 1}[Expr(:::, :x, :Float64)::Any, :y].args\\\" is not a valid function argument name\")))"
      ]
     },
     "execution_count": 80,
     "metadata": {},
     "output_type": "execute_result"
    }
   ],
   "source": [
    "macroexpand(:(@add_transition! plus minus plus.args x > 3))"
   ]
  },
  {
   "cell_type": "code",
   "execution_count": 84,
   "metadata": {
    "collapsed": false
   },
   "outputs": [
    {
     "ename": "LoadError",
     "evalue": "LoadError: syntax: \"Array{Any, 1}[Expr(:::, :x, :Float64)::Any, :y]\" is not a valid function argument name\nwhile loading In[84], in expression starting on line 1",
     "output_type": "error",
     "traceback": [
      "LoadError: syntax: \"Array{Any, 1}[Expr(:::, :x, :Float64)::Any, :y]\" is not a valid function argument name\nwhile loading In[84], in expression starting on line 1",
      ""
     ]
    }
   ],
   "source": [
    "@eval $(plus.args) -> x"
   ]
  },
  {
   "cell_type": "code",
   "execution_count": 12,
   "metadata": {
    "collapsed": false
   },
   "outputs": [
    {
     "name": "stdout",
     "output_type": "stream",
     "text": [
      "Array(Any,(4,))\n",
      "  1: Array(Any,(2,))\n",
      "    1: Array(Any,(3,))\n",
      "      1: Symbol x\n",
      "      2: Symbol Any\n",
      "      3: Int64 18\n",
      "    2: Array(Any,(3,))\n",
      "      1: Symbol y\n",
      "      2: Symbol Any\n",
      "      3: Int64 0\n",
      "  2: Array(Any,(0,))\n",
      "  3: Int64 0\n",
      "  4: Array(Any,(0,))\n"
     ]
    }
   ],
   "source": [
    "dump(expand(:((x::Float64, y) -> x + y)).ast.args[2])"
   ]
  },
  {
   "cell_type": "code",
   "execution_count": 6,
   "metadata": {
    "collapsed": false
   },
   "outputs": [
    {
     "data": {
      "text/plain": [
       ":f"
      ]
     },
     "execution_count": 6,
     "metadata": {},
     "output_type": "execute_result"
    }
   ],
   "source": [
    "expand(:(f))"
   ]
  },
  {
   "cell_type": "code",
   "execution_count": null,
   "metadata": {
    "collapsed": true
   },
   "outputs": [],
   "source": []
  }
 ],
 "metadata": {
  "kernelspec": {
   "display_name": "Julia 0.4.1",
   "language": "julia",
   "name": "julia-0.4"
  },
  "language_info": {
   "file_extension": ".jl",
   "mimetype": "application/julia",
   "name": "julia",
   "version": "0.4.1"
  }
 },
 "nbformat": 4,
 "nbformat_minor": 0
}
