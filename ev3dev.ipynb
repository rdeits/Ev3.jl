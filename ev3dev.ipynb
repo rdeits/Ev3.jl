{
 "cells": [
  {
   "cell_type": "code",
   "execution_count": 112,
   "metadata": {
    "collapsed": false
   },
   "outputs": [
    {
     "name": "stderr",
     "output_type": "stream",
     "text": [
      "WARNING: replacing module Ev3dev\n",
      "WARNING: Method definition parse(Type{ASCIIString}, ASCIIString) in module Ev3dev at In[104]:5 overwritten in module Ev3dev at In[112]:5.\n",
      "WARNING: Method definition parse(Type{Array{ASCIIString, 1}}, ASCIIString) in module Ev3dev at In[104]:6 overwritten in module Ev3dev at In[112]:6.\n"
     ]
    }
   ],
   "source": [
    "module Ev3dev\n",
    "\n",
    "import Base: read, parse, write\n",
    "\n",
    "parse(::Type{ASCIIString}, s::ASCIIString) = s\n",
    "parse(::Type{Vector{ASCIIString}}, s::ASCIIString) = split(s)\n",
    "\n",
    "immutable Brick\n",
    "    root_path::AbstractString\n",
    "end\n",
    "\n",
    "@inline novalidate(x) = true\n",
    "\n",
    "immutable Attribute{T}\n",
    "    name::Symbol\n",
    "    read::Bool\n",
    "    write::Bool\n",
    "    validator::Function\n",
    "end\n",
    "\n",
    "Attribute{T}(name::Symbol, ::Type{T}, read::Bool=true, write::Bool=false, validator::Function=novalidate) = Attribute{T}(name, read, write, validator)\n",
    "\n",
    "immutable WrappedStream{T}\n",
    "    stream::IOStream\n",
    "    validator::Function\n",
    "end\n",
    "\n",
    "function WrappedStream{T}(port_path::AbstractString, attribute::Attribute{T})\n",
    "    path = joinpath(port_path, string(attribute.name))\n",
    "    isfile(path) || error(\"file not found: $path\")\n",
    "    attribute.read && (isreadable(path) || error(\"read access for attribute $(attribute.name) was requested, but file is not readable\"))\n",
    "    attribute.write && (iswritable(path) || error(\"write access for attribute $(attribute.name) was requested, but file is not writable\"))\n",
    "\n",
    "    stream = open(path, attribute.read, attribute.write, false, attribute.write, false)\n",
    "    WrappedStream{T}(stream, attribute.validator)\n",
    "end\n",
    "\n",
    "function read{T}(attr::WrappedStream{T})\n",
    "    seekstart(attr.stream)\n",
    "    parse(T, readchomp(attr.stream))\n",
    "end\n",
    "\n",
    "function write{T}(attr::WrappedStream{T}, val::T)\n",
    "    @assert attr.validator(val)\n",
    "    seekstart(attr.stream)\n",
    "    write(attr.stream, string(val))\n",
    "    flush(attr.stream)\n",
    "end\n",
    "\n",
    "write{T}(attr::WrappedStream{T}, val) = write(attr, convert(T, val))\n",
    "\n",
    "abstract Device\n",
    "\n",
    "immutable Port\n",
    "    brick::Brick\n",
    "    path::AbstractString\n",
    "    streams::Dict{Symbol, WrappedStream}\n",
    "end\n",
    "\n",
    "function Port(brick::Brick, path::AbstractString, \n",
    "    attributes::AbstractArray{Attribute})\n",
    "    \n",
    "    streams = Dict{Symbol, WrappedStream}()\n",
    "    for attribute in attributes\n",
    "        streams[attribute.name] = WrappedStream(joinpath(brick.root_path, path), attribute)\n",
    "    end\n",
    "    Port(brick, path, streams)\n",
    "end\n",
    "\n",
    "read(port::Port, name::Symbol) = read(port.streams[name])\n",
    "write(port::Port, name::Symbol, value) = write(port.streams[name], value)\n",
    "read(device::Device, name::Symbol) = read(device.port, name)\n",
    "write(device::Device, name::Symbol, value) = write(device.port, name, value)\n",
    "\n",
    "function find_device{T}(::Type{T}, brick::Brick, address::AbstractString, path_to_search::AbstractString)\n",
    "    path = joinpath(brick.root_path, path_to_search)\n",
    "    for dir in readdir(path)\n",
    "        device_address = open(joinpath(path, dir, \"address\")) do f\n",
    "            readchomp(f)\n",
    "        end\n",
    "        if device_address == address\n",
    "            return T(brick, dir)\n",
    "        end\n",
    "    end\n",
    "    nothing\n",
    "end\n",
    "\n",
    "macro make_device(name, path, attributes)\n",
    "    quote type $(esc(name)) <: Device\n",
    "            port::Port\n",
    "        end\n",
    "        \n",
    "        function $(esc(name))(brick::Brick, identifier::AbstractString) \n",
    "            $(esc(name))(Port(brick, joinpath($(path), identifier), Attribute[Attribute(x...) for x in $(attributes)]))\n",
    "        end\n",
    "        \n",
    "        function $(esc(:find_device))(::Type{$(name)}, brick::Brick, address::AbstractString)\n",
    "            find_device($(name), brick, address, $(path))\n",
    "        end\n",
    "        \n",
    "        function make_accessors()\n",
    "            for args in $(attributes)\n",
    "                attribute = Attribute(args...)\n",
    "                if attribute.read\n",
    "                    expr = Expr(:(=), Expr(:call, attribute.name, Expr(:(::), :dev, $(esc(name)))), \n",
    "                    Expr(:call, :read, :dev, QuoteNode(attribute.name)))\n",
    "                    eval(expr)\n",
    "                end\n",
    "                if attribute.write\n",
    "                    expr = Expr(:(=), Expr(:call, symbol(attribute.name, :!), Expr(:(::), :dev, $(esc(name))), :value), \n",
    "                    Expr(:call, :write, :dev, QuoteNode(attribute.name), :value))\n",
    "                    eval(expr)\n",
    "                end\n",
    "            end\n",
    "        end\n",
    "        make_accessors()\n",
    "    end\n",
    "end\n",
    "\n",
    "@make_device Motor \"sys/class/tacho-motor\" [\n",
    "    (:address, ASCIIString),\n",
    "    (:commands, Vector{ASCIIString}),\n",
    "    (:driver_name, ASCIIString),\n",
    "    (:position, Int),\n",
    "    (:count_per_rot, Int),\n",
    "    (:duty_cycle, Int),\n",
    "    (:duty_cycle_sp, Int, true, true, x -> x > 0),\n",
    "    (:speed_sp, Int, true, true),\n",
    "    (:position_sp, Int, true, true),\n",
    "    (:polarity, ASCIIString, true, true, x -> x in Set((\"normal\", \"inversed\"))),\n",
    "    (:command, ASCIIString, false, true),\n",
    "    (:stop_action, ASCIIString, true, true)\n",
    "    ]\n",
    "\n",
    "@make_device Sensor \"sys/class/lego-sensor\" [\n",
    "    (:address, ASCIIString),\n",
    "    (:commands, Vector{ASCIIString}),\n",
    "    (:driver_name, ASCIIString),\n",
    "    (:decimals, Int),\n",
    "    (:value0, Int),\n",
    "    (:value1, Int),\n",
    "    (:value2, Int),\n",
    "    (:value3, Int),\n",
    "    (:modes, Vector{ASCIIString}),\n",
    "    (:bin_data, ASCIIString),\n",
    "    (:bin_data_format, ASCIIString),\n",
    "    (:poll_ms, Int, true, true, x -> x > 0)\n",
    "    ]\n",
    "\n",
    "end\n",
    "\n",
    "import Ev3dev"
   ]
  },
  {
   "cell_type": "code",
   "execution_count": 113,
   "metadata": {
    "collapsed": false
   },
   "outputs": [
    {
     "data": {
      "text/plain": [
       "Ev3dev.Sensor(Ev3dev.Port(Ev3dev.Brick(\"/home/pi/ev3\"),\"sys/class/lego-sensor/sensor0\",Dict{Symbol,Ev3dev.WrappedStream{T}}(:value3=>Ev3dev.WrappedStream{Int32}(IOStream(<file /home/pi/ev3/sys/class/lego-sensor/sensor0/value3>),Ev3dev.novalidate),:bin_data_format=>Ev3dev.WrappedStream{ASCIIString}(IOStream(<file /home/pi/ev3/sys/class/lego-sensor/sensor0/bin_data_format>),Ev3dev.novalidate),:value0=>Ev3dev.WrappedStream{Int32}(IOStream(<file /home/pi/ev3/sys/class/lego-sensor/sensor0/value0>),Ev3dev.novalidate),:driver_name=>Ev3dev.WrappedStream{ASCIIString}(IOStream(<file /home/pi/ev3/sys/class/lego-sensor/sensor0/driver_name>),Ev3dev.novalidate),:value2=>Ev3dev.WrappedStream{Int32}(IOStream(<file /home/pi/ev3/sys/class/lego-sensor/sensor0/value2>),Ev3dev.novalidate),:address=>Ev3dev.WrappedStream{ASCIIString}(IOStream(<file /home/pi/ev3/sys/class/lego-sensor/sensor0/address>),Ev3dev.novalidate),:modes=>Ev3dev.WrappedStream{Array{ASCIIString,1}}(IOStream(<file /home/pi/ev3/sys/class/lego-sensor/sensor0/modes>),Ev3dev.novalidate),:bin_data=>Ev3dev.WrappedStream{ASCIIString}(IOStream(<file /home/pi/ev3/sys/class/lego-sensor/sensor0/bin_data>),Ev3dev.novalidate),:commands=>Ev3dev.WrappedStream{Array{ASCIIString,1}}(IOStream(<file /home/pi/ev3/sys/class/lego-sensor/sensor0/commands>),Ev3dev.novalidate),:poll_ms=>Ev3dev.WrappedStream{Int32}(IOStream(<file /home/pi/ev3/sys/class/lego-sensor/sensor0/poll_ms>),(anonymous function)),:value1=>Ev3dev.WrappedStream{Int32}(IOStream(<file /home/pi/ev3/sys/class/lego-sensor/sensor0/value1>),Ev3dev.novalidate),:decimals=>Ev3dev.WrappedStream{Int32}(IOStream(<file /home/pi/ev3/sys/class/lego-sensor/sensor0/decimals>),Ev3dev.novalidate))))"
      ]
     },
     "execution_count": 113,
     "metadata": {},
     "output_type": "execute_result"
    }
   ],
   "source": [
    "brick = Ev3dev.Brick(\"/home/pi/ev3\")\n",
    "\n",
    "motor = Ev3dev.find_device(Ev3dev.Motor, brick, \"outA\")\n",
    "ultrasound = Ev3dev.find_device(Ev3dev.Sensor, brick, \"in1\")"
   ]
  },
  {
   "cell_type": "code",
   "execution_count": 114,
   "metadata": {
    "collapsed": false
   },
   "outputs": [
    {
     "data": {
      "text/plain": [
       "569"
      ]
     },
     "execution_count": 114,
     "metadata": {},
     "output_type": "execute_result"
    }
   ],
   "source": [
    "Ev3dev.value0(ultrasound)"
   ]
  },
  {
   "cell_type": "code",
   "execution_count": 115,
   "metadata": {
    "collapsed": false
   },
   "outputs": [
    {
     "data": {
      "text/plain": [
       "7-element Array{SubString{ASCIIString},1}:\n",
       " \"run-forever\"   \n",
       " \"run-to-abs-pos\"\n",
       " \"run-to-rel-pos\"\n",
       " \"run-timed\"     \n",
       " \"run-direct\"    \n",
       " \"stop\"          \n",
       " \"reset\"         "
      ]
     },
     "execution_count": 115,
     "metadata": {},
     "output_type": "execute_result"
    }
   ],
   "source": [
    "read(motor, :commands)"
   ]
  },
  {
   "cell_type": "code",
   "execution_count": 116,
   "metadata": {
    "collapsed": false
   },
   "outputs": [
    {
     "data": {
      "text/plain": [
       "7-element Array{SubString{ASCIIString},1}:\n",
       " \"run-forever\"   \n",
       " \"run-to-abs-pos\"\n",
       " \"run-to-rel-pos\"\n",
       " \"run-timed\"     \n",
       " \"run-direct\"    \n",
       " \"stop\"          \n",
       " \"reset\"         "
      ]
     },
     "execution_count": 116,
     "metadata": {},
     "output_type": "execute_result"
    }
   ],
   "source": [
    "Ev3dev.commands(motor)"
   ]
  },
  {
   "cell_type": "code",
   "execution_count": 117,
   "metadata": {
    "collapsed": false
   },
   "outputs": [
    {
     "data": {
      "text/plain": [
       "IOStream(<file /home/pi/ev3/sys/class/tacho-motor/motor0/speed_sp>)"
      ]
     },
     "execution_count": 117,
     "metadata": {},
     "output_type": "execute_result"
    }
   ],
   "source": [
    "write(motor, :speed_sp, 500)"
   ]
  },
  {
   "cell_type": "code",
   "execution_count": 118,
   "metadata": {
    "collapsed": false
   },
   "outputs": [
    {
     "data": {
      "text/plain": [
       "IOStream(<file /home/pi/ev3/sys/class/tacho-motor/motor0/command>)"
      ]
     },
     "execution_count": 118,
     "metadata": {},
     "output_type": "execute_result"
    }
   ],
   "source": [
    "Ev3dev.command!(motor, \"run-forever\")"
   ]
  },
  {
   "cell_type": "code",
   "execution_count": 119,
   "metadata": {
    "collapsed": false
   },
   "outputs": [
    {
     "data": {
      "text/plain": [
       "IOStream(<file /home/pi/ev3/sys/class/tacho-motor/motor0/command>)"
      ]
     },
     "execution_count": 119,
     "metadata": {},
     "output_type": "execute_result"
    }
   ],
   "source": [
    "Ev3dev.command!(motor, \"stop\")"
   ]
  },
  {
   "cell_type": "code",
   "execution_count": 122,
   "metadata": {
    "collapsed": false
   },
   "outputs": [
    {
     "data": {
      "text/plain": [
       "\"normal\""
      ]
     },
     "execution_count": 122,
     "metadata": {},
     "output_type": "execute_result"
    }
   ],
   "source": [
    "Ev3dev.polarity(motor)"
   ]
  },
  {
   "cell_type": "code",
   "execution_count": null,
   "metadata": {
    "collapsed": true
   },
   "outputs": [],
   "source": []
  }
 ],
 "metadata": {
  "kernelspec": {
   "display_name": "Julia 0.4.5",
   "language": "julia",
   "name": "julia-0.4"
  },
  "language_info": {
   "file_extension": ".jl",
   "mimetype": "application/julia",
   "name": "julia",
   "version": "0.4.5"
  }
 },
 "nbformat": 4,
 "nbformat_minor": 0
}
