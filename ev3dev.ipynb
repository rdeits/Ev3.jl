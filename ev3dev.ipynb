{
 "cells": [
  {
   "cell_type": "code",
   "execution_count": 40,
   "metadata": {
    "collapsed": false
   },
   "outputs": [
    {
     "name": "stderr",
     "output_type": "stream",
     "text": [
      "WARNING: replacing module Ev3dev\n",
      "WARNING: Method definition parse(Type{ASCIIString}, ASCIIString) in module Ev3dev at In[36]:5 overwritten in module Ev3dev at In[40]:5.\n",
      "WARNING: Method definition parse(Type{Array{ASCIIString, 1}}, ASCIIString) in module Ev3dev at In[36]:6 overwritten in module Ev3dev at In[40]:6.\n"
     ]
    }
   ],
   "source": [
    "module Ev3dev\n",
    "\n",
    "import Base: read, parse, write\n",
    "\n",
    "parse(::Type{ASCIIString}, s::ASCIIString) = s\n",
    "parse(::Type{Vector{ASCIIString}}, s::ASCIIString) = split(s)\n",
    "\n",
    "immutable Brick\n",
    "    root_path::AbstractString\n",
    "end\n",
    "\n",
    "@inline novalidate(x) = true\n",
    "\n",
    "immutable Attribute{T}\n",
    "    name::Symbol\n",
    "    read::Bool\n",
    "    write::Bool\n",
    "    validator::Function\n",
    "end\n",
    "\n",
    "Attribute{T}(name::Symbol, ::Type{T}, read::Bool=true, write::Bool=false, validator::Function=novalidate) = Attribute{T}(name, read, write, validator)\n",
    "\n",
    "immutable WrappedStream{T}\n",
    "    stream::IOStream\n",
    "    validator::Function\n",
    "end\n",
    "\n",
    "function WrappedStream{T}(port_path::AbstractString, attribute::Attribute{T})\n",
    "    path = joinpath(port_path, string(attribute.name))\n",
    "    isfile(path) || error(\"file not found: $path\")\n",
    "    attribute.read && (isreadable(path) || error(\"read access for attribute $(attribute.name) was requested, but file is not readable\"))\n",
    "    attribute.write && (iswritable(path) || error(\"write access for attribute $(attribute.name) was requested, but file is not writable\"))\n",
    "\n",
    "    stream = open(path, attribute.read, attribute.write, false, attribute.write, false)\n",
    "    WrappedStream{T}(stream, attribute.validator)\n",
    "end\n",
    "\n",
    "function read{T}(attr::WrappedStream{T})\n",
    "    seekstart(attr.stream)\n",
    "    parse(T, readchomp(attr.stream))\n",
    "end\n",
    "\n",
    "function write{T}(attr::WrappedStream{T}, val::T)\n",
    "    @assert attr.validator(val)\n",
    "    seekstart(attr.stream)\n",
    "    write(attr.stream, string(val))\n",
    "    flush(attr.stream)\n",
    "end\n",
    "\n",
    "function write{T}(attr::WrappedStream{T}, val)\n",
    "    write(attr, convert(T, val))\n",
    "end\n",
    "\n",
    "abstract Device\n",
    "\n",
    "immutable Port\n",
    "    brick::Brick\n",
    "    path::AbstractString\n",
    "    streams::Dict{Symbol, WrappedStream}\n",
    "end\n",
    "\n",
    "function Port(brick::Brick, path::AbstractString, \n",
    "    attributes::AbstractArray{Attribute})\n",
    "    \n",
    "    streams = Dict{Symbol, WrappedStream}()\n",
    "    for attribute in attributes\n",
    "        streams[attribute.name] = WrappedStream(joinpath(brick.root_path, path), attribute)\n",
    "    end\n",
    "    Port(brick, path, streams)\n",
    "end\n",
    "\n",
    "read(port::Port, name::Symbol) = read(port.streams[name])\n",
    "write(port::Port, name::Symbol, value) = write(port.streams[name], value)\n",
    "read(device::Device, name::Symbol) = read(device.port, name)\n",
    "write(device::Device, name::Symbol, value) = write(device.port, name, value)\n",
    "\n",
    "# macro make_device(typename)\n",
    "#     return quote\n",
    "#         type $(esc(typename)) <: Device\n",
    "#             port::Port\n",
    "#         end\n",
    "        \n",
    "#         function $(esc(typename))(brick::Brick, path::AbstractString)\n",
    "#             $(esc(typename))(Port(brick, path, Attribute[Attribute(x...) for x in device_attributes($(esc(typename)))]))\n",
    "#         end\n",
    "#     end\n",
    "# end\n",
    "\n",
    "# @make_device Motor\n",
    "# @make_device Sensor\n",
    "\n",
    "function find_device{T}(::Type{T}, brick::Brick, address::AbstractString, path_to_search::AbstractString)\n",
    "    path = joinpath(brick.root_path, path_to_search)\n",
    "    for dir in readdir(path)\n",
    "        device_address = open(joinpath(path, dir, \"address\")) do f\n",
    "            readchomp(f)\n",
    "        end\n",
    "        if device_address == address\n",
    "            return T(brick, dir)\n",
    "        end\n",
    "    end\n",
    "    nothing\n",
    "end\n",
    "\n",
    "macro make_device(name, path, attributes)\n",
    "    quote type $(esc(name)) <: Device\n",
    "            port::Port\n",
    "        end\n",
    "        \n",
    "        function $(esc(name))(brick::Brick, identifier::AbstractString) \n",
    "            $(esc(name))(Port(brick, joinpath($(path), identifier), Attribute[Attribute(x...) for x in $(attributes)]))\n",
    "        end\n",
    "        \n",
    "        function $(esc(:find_device))(::Type{$(name)}, brick::Brick, address::AbstractString)\n",
    "            find_device($(name), brick, address, $(path))\n",
    "        end\n",
    "    end\n",
    "end\n",
    "\n",
    "@make_device Motor \"sys/class/tacho-motor\" [\n",
    "    (:address, ASCIIString),\n",
    "    (:commands, Vector{ASCIIString}),\n",
    "    (:driver_name, ASCIIString),\n",
    "    (:position, Int),\n",
    "    (:count_per_rot, Int),\n",
    "    (:duty_cycle, Int),\n",
    "    (:duty_cycle_sp, Int, true, true, x -> x > 0),\n",
    "    (:speed_sp, Int, true, true),\n",
    "    (:position_sp, Int, true, true),\n",
    "    (:polarity, ASCIIString, true, true, x -> x in Set((\"normal\", \"inversed\"))),\n",
    "    (:command, ASCIIString, false, true),\n",
    "    (:stop_action, ASCIIString, true, true)\n",
    "    ]\n",
    "\n",
    "@make_device Sensor \"sys/class/lego-sensor\" [\n",
    "    (:address, ASCIIString),\n",
    "    (:commands, Vector{ASCIIString}),\n",
    "    (:driver_name, ASCIIString),\n",
    "    (:decimals, Int),\n",
    "    (:value0, Int),\n",
    "    (:value1, Int),\n",
    "    (:value2, Int),\n",
    "    (:value3, Int),\n",
    "    (:modes, Vector{ASCIIString}),\n",
    "    (:bin_data, ASCIIString),\n",
    "    (:bin_data_format, ASCIIString),\n",
    "    (:poll_ms, Int, true, true, x -> x > 0)\n",
    "    ]\n",
    "\n",
    "end\n",
    "\n",
    "import Ev3dev"
   ]
  },
  {
   "cell_type": "code",
   "execution_count": 41,
   "metadata": {
    "collapsed": false
   },
   "outputs": [
    {
     "data": {
      "text/plain": [
       "Ev3dev.Sensor(Ev3dev.Port(Ev3dev.Brick(\"/home/pi/ev3\"),\"sys/class/lego-sensor/sensor0\",Dict{Symbol,Ev3dev.WrappedStream{T}}(:value3=>Ev3dev.WrappedStream{Int32}(IOStream(<file /home/pi/ev3/sys/class/lego-sensor/sensor0/value3>),Ev3dev.novalidate),:bin_data_format=>Ev3dev.WrappedStream{ASCIIString}(IOStream(<file /home/pi/ev3/sys/class/lego-sensor/sensor0/bin_data_format>),Ev3dev.novalidate),:value0=>Ev3dev.WrappedStream{Int32}(IOStream(<file /home/pi/ev3/sys/class/lego-sensor/sensor0/value0>),Ev3dev.novalidate),:driver_name=>Ev3dev.WrappedStream{ASCIIString}(IOStream(<file /home/pi/ev3/sys/class/lego-sensor/sensor0/driver_name>),Ev3dev.novalidate),:value2=>Ev3dev.WrappedStream{Int32}(IOStream(<file /home/pi/ev3/sys/class/lego-sensor/sensor0/value2>),Ev3dev.novalidate),:address=>Ev3dev.WrappedStream{ASCIIString}(IOStream(<file /home/pi/ev3/sys/class/lego-sensor/sensor0/address>),Ev3dev.novalidate),:modes=>Ev3dev.WrappedStream{Array{ASCIIString,1}}(IOStream(<file /home/pi/ev3/sys/class/lego-sensor/sensor0/modes>),Ev3dev.novalidate),:bin_data=>Ev3dev.WrappedStream{ASCIIString}(IOStream(<file /home/pi/ev3/sys/class/lego-sensor/sensor0/bin_data>),Ev3dev.novalidate),:commands=>Ev3dev.WrappedStream{Array{ASCIIString,1}}(IOStream(<file /home/pi/ev3/sys/class/lego-sensor/sensor0/commands>),Ev3dev.novalidate),:poll_ms=>Ev3dev.WrappedStream{Int32}(IOStream(<file /home/pi/ev3/sys/class/lego-sensor/sensor0/poll_ms>),(anonymous function)),:value1=>Ev3dev.WrappedStream{Int32}(IOStream(<file /home/pi/ev3/sys/class/lego-sensor/sensor0/value1>),Ev3dev.novalidate),:decimals=>Ev3dev.WrappedStream{Int32}(IOStream(<file /home/pi/ev3/sys/class/lego-sensor/sensor0/decimals>),Ev3dev.novalidate))))"
      ]
     },
     "execution_count": 41,
     "metadata": {},
     "output_type": "execute_result"
    }
   ],
   "source": [
    "brick = Ev3dev.Brick(\"/home/pi/ev3\")\n",
    "\n",
    "motor = Ev3dev.find_device(Ev3dev.Motor, brick, \"outA\")\n",
    "ultrasound = Ev3dev.find_device(Ev3dev.Sensor, brick, \"in1\")"
   ]
  },
  {
   "cell_type": "code",
   "execution_count": 44,
   "metadata": {
    "collapsed": false
   },
   "outputs": [
    {
     "data": {
      "text/plain": [
       "570"
      ]
     },
     "execution_count": 44,
     "metadata": {},
     "output_type": "execute_result"
    }
   ],
   "source": [
    "read(ultrasound, :value0)"
   ]
  },
  {
   "cell_type": "code",
   "execution_count": 45,
   "metadata": {
    "collapsed": false
   },
   "outputs": [
    {
     "data": {
      "text/plain": [
       "7-element Array{SubString{ASCIIString},1}:\n",
       " \"run-forever\"   \n",
       " \"run-to-abs-pos\"\n",
       " \"run-to-rel-pos\"\n",
       " \"run-timed\"     \n",
       " \"run-direct\"    \n",
       " \"stop\"          \n",
       " \"reset\"         "
      ]
     },
     "execution_count": 45,
     "metadata": {},
     "output_type": "execute_result"
    }
   ],
   "source": [
    "read(motor, :commands)"
   ]
  },
  {
   "cell_type": "code",
   "execution_count": 46,
   "metadata": {
    "collapsed": false
   },
   "outputs": [
    {
     "data": {
      "text/plain": [
       "IOStream(<file /home/pi/ev3/sys/class/tacho-motor/motor0/speed_sp>)"
      ]
     },
     "execution_count": 46,
     "metadata": {},
     "output_type": "execute_result"
    }
   ],
   "source": [
    "write(motor, :speed_sp, 500)"
   ]
  },
  {
   "cell_type": "code",
   "execution_count": 49,
   "metadata": {
    "collapsed": false
   },
   "outputs": [
    {
     "data": {
      "text/plain": [
       "IOStream(<file /home/pi/ev3/sys/class/tacho-motor/motor0/command>)"
      ]
     },
     "execution_count": 49,
     "metadata": {},
     "output_type": "execute_result"
    }
   ],
   "source": [
    "write(motor, :command, \"run-forever\")"
   ]
  },
  {
   "cell_type": "code",
   "execution_count": 50,
   "metadata": {
    "collapsed": false
   },
   "outputs": [
    {
     "data": {
      "text/plain": [
       "IOStream(<file /home/pi/ev3/sys/class/tacho-motor/motor0/command>)"
      ]
     },
     "execution_count": 50,
     "metadata": {},
     "output_type": "execute_result"
    }
   ],
   "source": [
    "write(motor, :command, \"stop\")"
   ]
  },
  {
   "cell_type": "code",
   "execution_count": 17,
   "metadata": {
    "collapsed": false
   },
   "outputs": [
    {
     "data": {
      "text/plain": [
       ":(type foo\n",
       "        a::Int\n",
       "    end)"
      ]
     },
     "execution_count": 17,
     "metadata": {},
     "output_type": "execute_result"
    }
   ],
   "source": [
    "Expr(:type, true, :foo, Expr(:block, Expr(:(::), :a, :Int)))"
   ]
  },
  {
   "cell_type": "code",
   "execution_count": 15,
   "metadata": {
    "collapsed": false
   },
   "outputs": [
    {
     "name": "stdout",
     "output_type": "stream",
     "text": [
      "Array(Any,(3,))\n",
      "  1: Bool true\n",
      "  2: Symbol foo\n",
      "  3: Expr \n",
      "    head: Symbol block\n",
      "    args: Array(Any,(2,))\n",
      "      1: LineNumberNode \n",
      "        file: Symbol In[15]\n",
      "        line: Int32 2\n",
      "      2: Expr \n",
      "        head: Symbol ::\n",
      "        args: Array(Any,(2,))\n",
      "          1: Symbol a\n",
      "          2: Symbol Int\n",
      "        typ: Any\n",
      "    typ: Any\n"
     ]
    }
   ],
   "source": [
    "dump(:(type foo\n",
    "    a::Int\n",
    "    end).args)"
   ]
  },
  {
   "cell_type": "code",
   "execution_count": 18,
   "metadata": {
    "collapsed": false
   },
   "outputs": [
    {
     "name": "stdout",
     "output_type": "stream",
     "text": [
      "Expr \n",
      "  head: Symbol =\n",
      "  args: Array(Any,(2,))\n",
      "    1: Expr \n",
      "      head: Symbol call\n",
      "      args: Array(Any,(2,))\n",
      "        1: Symbol foo\n",
      "        2: Symbol x\n",
      "      typ: Any\n",
      "    2: Expr \n",
      "      head: Symbol block\n",
      "      args: Array(Any,(2,))\n",
      "        1: LineNumberNode \n",
      "          file: Symbol In[18]\n",
      "          line: Int32 1\n",
      "        2: Expr \n",
      "          head: Symbol call\n",
      "          args: Array(Any,(3,))\n",
      "          typ: Any\n",
      "      typ: Any\n",
      "  typ: Any\n"
     ]
    }
   ],
   "source": [
    "dump(:(foo(x) = x^2))"
   ]
  },
  {
   "cell_type": "code",
   "execution_count": 19,
   "metadata": {
    "collapsed": true
   },
   "outputs": [],
   "source": [
    "macro make_type(t)\n",
    "    quote type $(esc(t))\n",
    "        end\n",
    "    end\n",
    "end\n"
   ]
  },
  {
   "cell_type": "code",
   "execution_count": null,
   "metadata": {
    "collapsed": true
   },
   "outputs": [],
   "source": []
  }
 ],
 "metadata": {
  "kernelspec": {
   "display_name": "Julia 0.4.5",
   "language": "julia",
   "name": "julia-0.4"
  },
  "language_info": {
   "file_extension": ".jl",
   "mimetype": "application/julia",
   "name": "julia",
   "version": "0.4.5"
  }
 },
 "nbformat": 4,
 "nbformat_minor": 0
}
