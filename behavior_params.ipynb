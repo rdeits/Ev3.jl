{
 "cells": [
  {
   "cell_type": "code",
   "execution_count": 47,
   "metadata": {
    "collapsed": false
   },
   "outputs": [
    {
     "data": {
      "text/plain": [
       "Any"
      ]
     },
     "execution_count": 47,
     "metadata": {},
     "output_type": "execute_result"
    }
   ],
   "source": [
    "super(typeof(() -> 1))"
   ]
  },
  {
   "cell_type": "code",
   "execution_count": 45,
   "metadata": {
    "collapsed": false
   },
   "outputs": [
    {
     "ename": "LoadError",
     "evalue": "LoadError: UndefVarError: Transition not defined\nwhile loading In[45], in expression starting on line 4",
     "output_type": "error",
     "traceback": [
      "LoadError: UndefVarError: Transition not defined\nwhile loading In[45], in expression starting on line 4",
      ""
     ]
    }
   ],
   "source": [
    "workspace()\n",
    "import Base: start, next, done\n",
    "\n",
    "type Behavior{T}\n",
    "    action::Function\n",
    "    transitions\n",
    "end\n",
    "\n",
    "type Transition{T}\n",
    "    check::Function\n",
    "    destination::Behavior{T}\n",
    "end\n",
    "\n",
    "type BehaviorSet{T}\n",
    "    behaviors::Vector{Behavior{T}}\n",
    "    start::Vector{Behavior{T}}\n",
    "    final::Behavior{T}\n",
    "    input_getter::Function\n",
    "end\n",
    "\n",
    "function transitions{T}(behavior::Behavior{T})\n",
    "    behavior.transitions\n",
    "end\n",
    "\n",
    "function check{T}(transition::Transition{T}, input::T)\n",
    "    transition.check(input)\n",
    "end\n",
    "\n",
    "function destination{T}(transition::Transition{T})\n",
    "    transition.destination\n",
    "end\n",
    "\n",
    "function action{T}(behavior::Behavior{T}, input::T)\n",
    "    behavior.action(input)\n",
    "end\n",
    "\n",
    "function input{T}(bset::BehaviorSet{T})\n",
    "    bset.input_getter()\n",
    "end\n",
    "\n",
    "function add_transition!{T}(behavior::Behavior{T}, transition::Transition{T})\n",
    "    push!(behavior.transitions, transition)\n",
    "end\n",
    "\n",
    "function start{T}(bset::BehaviorSet{T})\n",
    "    bset.start\n",
    "end\n",
    "\n",
    "function done{T}(bset::BehaviorSet{T}, behaviors)\n",
    "    any(behaviors .== bset.final)\n",
    "end\n",
    "\n",
    "function next{T}(bset::BehaviorSet{T}, current_behaviors)\n",
    "    input_data = input(bset)\n",
    "    for i in 1:length(current_behaviors)\n",
    "        for t in transitions(current_behaviors[i])\n",
    "            if check(t, input_data)\n",
    "                current_behaviors[i] = destination(t)\n",
    "                break\n",
    "            end\n",
    "        end\n",
    "    end\n",
    "    current_behaviors, current_behaviors\n",
    "end\n",
    "        \n",
    "        "
   ]
  },
  {
   "cell_type": "code",
   "execution_count": 12,
   "metadata": {
    "collapsed": false
   },
   "outputs": [
    {
     "data": {
      "text/plain": [
       "2-element Array{Any,1}:\n",
       " Transition{Tuple{Int64,Array{T,1}}}((anonymous function),Behavior{Tuple{Int64,Array{T,1}}}((anonymous function),Any[Transition{Tuple{Int64,Array{T,1}}}((anonymous function),Behavior{Tuple{Int64,Array{T,1}}}((anonymous function),Any[Transition{Tuple{Int64,Array{T,1}}}(#= circular reference =#),Transition{Tuple{Int64,Array{T,1}}}((anonymous function),Behavior{Tuple{Int64,Array{T,1}}}((anonymous function),Any[]))]))]))\n",
       " Transition{Tuple{Int64,Array{T,1}}}((anonymous function),Behavior{Tuple{Int64,Array{T,1}}}((anonymous function),Any[]))                                                                                                                                                                                                                                                                                                            "
      ]
     },
     "execution_count": 12,
     "metadata": {},
     "output_type": "execute_result"
    }
   ],
   "source": [
    "going_up = Behavior{Tuple{Int, Vector}}((x) -> x[2][1] += 1, [])\n",
    "going_down = Behavior{Tuple{Int, Vector}}((x) -> x[2][1] -= 1, [])\n",
    "final = Behavior{Tuple{Int, Vector}}((x) -> x[2], [])\n",
    "up_to_down = Transition((x) -> x[2][1] >= 10, going_down)\n",
    "down_to_up = Transition((x) -> x[2][1] < 1, going_up)\n",
    "add_transition!(going_up, up_to_down)\n",
    "add_transition!(going_down, down_to_up)\n",
    "add_transition!(going_up, Transition((x) -> x[1] > 20, final))"
   ]
  },
  {
   "cell_type": "code",
   "execution_count": 13,
   "metadata": {
    "collapsed": false,
    "scrolled": true
   },
   "outputs": [
    {
     "name": "stdout",
     "output_type": "stream",
     "text": [
      "2 [6]\n",
      "3 [7]\n",
      "4 [8]\n",
      "5 [9]\n",
      "6 [10]\n",
      "7 [9]\n",
      "8 [8]\n",
      "9 [7]\n",
      "10 [6]\n",
      "11 [5]\n",
      "12 [4]\n",
      "13 [3]\n",
      "14 [2]\n",
      "15 [1]\n",
      "16 [0]\n",
      "17 [1]\n",
      "18 [2]\n",
      "19 [3]\n",
      "20 [4]\n",
      "21 [5]\n",
      "22 [5]\n"
     ]
    }
   ],
   "source": [
    "i = 1\n",
    "x = [5]\n",
    "for behaviors in BehaviorSet([going_up, going_down], [going_up], final, () -> (i, x))\n",
    "    map(b -> action(b, (i, x)), behaviors)\n",
    "    i += 1\n",
    "    if i > 100\n",
    "        break\n",
    "    end\n",
    "    println(i, \" \", x)\n",
    "end"
   ]
  },
  {
   "cell_type": "code",
   "execution_count": null,
   "metadata": {
    "collapsed": true
   },
   "outputs": [],
   "source": [
    "macro Behavior(args, body)\n",
    "    return quote\n",
    "        Behavior{}"
   ]
  },
  {
   "cell_type": "code",
   "execution_count": 3,
   "metadata": {
    "collapsed": false
   },
   "outputs": [
    {
     "data": {
      "text/plain": [
       "(anonymous function)"
      ]
     },
     "execution_count": 3,
     "metadata": {},
     "output_type": "execute_result"
    }
   ],
   "source": [
    "f = () -> x"
   ]
  },
  {
   "cell_type": "code",
   "execution_count": 4,
   "metadata": {
    "collapsed": false
   },
   "outputs": [
    {
     "ename": "LoadError",
     "evalue": "LoadError: UndefVarError: x not defined\nwhile loading In[4], in expression starting on line 1",
     "output_type": "error",
     "traceback": [
      "LoadError: UndefVarError: x not defined\nwhile loading In[4], in expression starting on line 1",
      "",
      " in anonymous at In[3]:1"
     ]
    }
   ],
   "source": [
    "f()"
   ]
  },
  {
   "cell_type": "code",
   "execution_count": 5,
   "metadata": {
    "collapsed": false
   },
   "outputs": [
    {
     "data": {
      "text/plain": [
       "1"
      ]
     },
     "execution_count": 5,
     "metadata": {},
     "output_type": "execute_result"
    }
   ],
   "source": [
    "x = 1"
   ]
  },
  {
   "cell_type": "code",
   "execution_count": 6,
   "metadata": {
    "collapsed": false
   },
   "outputs": [
    {
     "data": {
      "text/plain": [
       "1"
      ]
     },
     "execution_count": 6,
     "metadata": {},
     "output_type": "execute_result"
    }
   ],
   "source": [
    "f()"
   ]
  },
  {
   "cell_type": "code",
   "execution_count": 7,
   "metadata": {
    "collapsed": false
   },
   "outputs": [
    {
     "data": {
      "text/plain": [
       "2"
      ]
     },
     "execution_count": 7,
     "metadata": {},
     "output_type": "execute_result"
    }
   ],
   "source": [
    "x = 2"
   ]
  },
  {
   "cell_type": "code",
   "execution_count": 8,
   "metadata": {
    "collapsed": false
   },
   "outputs": [
    {
     "data": {
      "text/plain": [
       "2"
      ]
     },
     "execution_count": 8,
     "metadata": {},
     "output_type": "execute_result"
    }
   ],
   "source": [
    "f()"
   ]
  },
  {
   "cell_type": "code",
   "execution_count": 42,
   "metadata": {
    "collapsed": false
   },
   "outputs": [
    {
     "data": {
      "text/plain": [
       "1"
      ]
     },
     "execution_count": 42,
     "metadata": {},
     "output_type": "execute_result"
    }
   ],
   "source": [
    "function g(x::Array)\n",
    "    x[1]\n",
    "end\n",
    "g([1,2,3])"
   ]
  },
  {
   "cell_type": "code",
   "execution_count": 25,
   "metadata": {
    "collapsed": false
   },
   "outputs": [
    {
     "name": "stdout",
     "output_type": "stream",
     "text": [
      "10\n",
      "10\n",
      "10\n",
      "10\n",
      "10\n",
      "10\n",
      "10\n",
      "10\n",
      "10\n",
      "10\n"
     ]
    }
   ],
   "source": [
    "fs = []\n",
    "for i = 1:10\n",
    "#     let i = i\n",
    "    push!(fs, () -> i)\n",
    "#     end\n",
    "end\n",
    "for j = 1:10\n",
    "    println(fs[j]())\n",
    "end"
   ]
  },
  {
   "cell_type": "code",
   "execution_count": 36,
   "metadata": {
    "collapsed": true
   },
   "outputs": [],
   "source": [
    "workspace()"
   ]
  },
  {
   "cell_type": "code",
   "execution_count": 44,
   "metadata": {
    "collapsed": false
   },
   "outputs": [
    {
     "data": {
      "text/plain": [
       "2"
      ]
     },
     "execution_count": 44,
     "metadata": {},
     "output_type": "execute_result"
    }
   ],
   "source": [
    "Fs = cell(2)\n",
    "for i = 1:2\n",
    "    Fs[i] = ()->i\n",
    "end\n",
    "Fs[1]()"
   ]
  },
  {
   "cell_type": "code",
   "execution_count": 43,
   "metadata": {
    "collapsed": false
   },
   "outputs": [
    {
     "data": {
      "text/plain": [
       "2"
      ]
     },
     "execution_count": 43,
     "metadata": {},
     "output_type": "execute_result"
    }
   ],
   "source": [
    "i = 0\n",
    "Fs = cell(2)\n",
    "for i = 1:2\n",
    "    Fs[i] = ()->i\n",
    "end\n",
    "Fs[1]()"
   ]
  },
  {
   "cell_type": "code",
   "execution_count": null,
   "metadata": {
    "collapsed": true
   },
   "outputs": [],
   "source": []
  }
 ],
 "metadata": {
  "kernelspec": {
   "display_name": "Julia 0.4.1",
   "language": "julia",
   "name": "julia-0.4"
  },
  "language_info": {
   "file_extension": ".jl",
   "mimetype": "application/julia",
   "name": "julia",
   "version": "0.4.1"
  }
 },
 "nbformat": 4,
 "nbformat_minor": 0
}
