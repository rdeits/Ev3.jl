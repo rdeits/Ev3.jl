{
 "cells": [
  {
   "cell_type": "code",
   "execution_count": 1,
   "metadata": {
    "collapsed": false
   },
   "outputs": [
    {
     "data": {
      "text/plain": [
       "2-element Array{Int64,1}:\n",
       " 2\n",
       " 3"
      ]
     },
     "execution_count": 1,
     "metadata": {},
     "output_type": "execute_result"
    }
   ],
   "source": [
    "addprocs(2)"
   ]
  },
  {
   "cell_type": "code",
   "execution_count": 2,
   "metadata": {
    "collapsed": true
   },
   "outputs": [],
   "source": [
    "@everywhere push!(LOAD_PATH, \"..\")"
   ]
  },
  {
   "cell_type": "code",
   "execution_count": 3,
   "metadata": {
    "collapsed": true
   },
   "outputs": [],
   "source": [
    "using PyPlot\n",
    "using AffineTransforms"
   ]
  },
  {
   "cell_type": "code",
   "execution_count": 99,
   "metadata": {
    "collapsed": false
   },
   "outputs": [
    {
     "name": "stderr",
     "output_type": "stream",
     "text": [
      "WARNING: replacing module Ev3\n",
      "WARNING: replacing module Ev3\n",
      "WARNING: replacing module Ev3\n",
      "WARNING: replacing module Ev3\n",
      "WARNING: replacing module Ev3\n"
     ]
    }
   ],
   "source": [
    "@everywhere reload(\"Ev3\")\n",
    "@everywhere import Ev3"
   ]
  },
  {
   "cell_type": "code",
   "execution_count": 100,
   "metadata": {
    "collapsed": false
   },
   "outputs": [],
   "source": [
    "@everywhere hostnames = [\"192.168.1.27\", \"192.168.1.25\"]\n",
    "@everywhere initial_poses = [AffineTransforms.tformeye(2), \n",
    "    AffineTransforms.tformtranslate([4.0, 1.5]) *\n",
    "    AffineTransforms.tformrotate(pi/2)]"
   ]
  },
  {
   "cell_type": "code",
   "execution_count": 101,
   "metadata": {
    "collapsed": false
   },
   "outputs": [],
   "source": [
    "maps = @sync @parallel (vcat) for i = 1:2\n",
    "    robot = Ev3.default_remote_robot(hostnames[i])\n",
    "    Ev3.run_mapping(robot, timeout=2, initial_pose=initial_poses[i])\n",
    "end\n",
    "nothing # suppress printout"
   ]
  },
  {
   "cell_type": "code",
   "execution_count": 106,
   "metadata": {
    "collapsed": false
   },
   "outputs": [
    {
     "data": {
      "image/png": "[encoded data removed]",
      "text/plain": [
       "PyPlot.Figure(PyObject <matplotlib.figure.Figure object at 0x322f85ad0>)"
      ]
     },
     "metadata": {},
     "output_type": "display_data"
    }
   ],
   "source": [
    "function draw(m::Ev3.Map)\n",
    "    plot([x[1] for x in m.points], [x[2] for x in m.points], \"ro\")\n",
    "    plot([x.offset[1] for x in m.path], [x.offset[2] for x in m.path], \"g.-\")\n",
    "    axis(\"equal\")\n",
    "end\n",
    "\n",
    "maps = vcat(maps) # make sure maps is a Vector, even if there's only 1\n",
    "cla()\n",
    "hold(true)\n",
    "for m in maps\n",
    "    draw(m)\n",
    "end"
   ]
  },
  {
   "cell_type": "code",
   "execution_count": null,
   "metadata": {
    "collapsed": true
   },
   "outputs": [],
   "source": []
  }
 ],
 "metadata": {
  "kernelspec": {
   "display_name": "Julia 0.4.1",
   "language": "julia",
   "name": "julia-0.4"
  },
  "language_info": {
   "file_extension": ".jl",
   "mimetype": "application/julia",
   "name": "julia",
   "version": "0.4.1"
  }
 },
 "nbformat": 4,
 "nbformat_minor": 0
}
