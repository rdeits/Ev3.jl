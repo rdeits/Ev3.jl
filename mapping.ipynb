{
 "cells": [
  {
   "cell_type": "code",
   "execution_count": 1,
   "metadata": {
    "collapsed": false
   },
   "outputs": [
    {
     "data": {
      "text/plain": [
       "4-element Array{ByteString,1}:\n",
       " \"/Applications/Julia-0.4.1.app/Contents/Resources/julia/local/share/julia/site/v0.4\"\n",
       " \"/Applications/Julia-0.4.1.app/Contents/Resources/julia/share/julia/site/v0.4\"      \n",
       " \"/Users/rdeits/6.338/hw2\"                                                           \n",
       " \"..\"                                                                                "
      ]
     },
     "execution_count": 1,
     "metadata": {},
     "output_type": "execute_result"
    }
   ],
   "source": [
    "push!(LOAD_PATH, \"..\")"
   ]
  },
  {
   "cell_type": "code",
   "execution_count": 2,
   "metadata": {
    "collapsed": true
   },
   "outputs": [],
   "source": [
    "using AffineTransforms\n",
    "using PyPlot"
   ]
  },
  {
   "cell_type": "code",
   "execution_count": 21,
   "metadata": {
    "collapsed": false
   },
   "outputs": [
    {
     "name": "stderr",
     "output_type": "stream",
     "text": [
      "WARNING: replacing module Ev3\n"
     ]
    }
   ],
   "source": [
    "reload(\"Ev3\")\n",
    "import Ev3"
   ]
  },
  {
   "cell_type": "code",
   "execution_count": 22,
   "metadata": {
    "collapsed": false
   },
   "outputs": [
    {
     "data": {
      "text/plain": [
       "Ev3.Robot(Ev3.RobotConfig(\"192.168.1.27\",0.18897600000000003,\"in4\",\"in1\",Ev3.Sides{ASCIIString}(\"outC\",\"outB\"),4.5,AffineTransforms.AffineTransform{Float64,2}:\n",
       "matrix: 2x2 Array{Float64,2}:\n",
       " 1.0  0.0\n",
       " 0.0  1.0\n",
       "translation: [0.07619999999999999,0.0]\n",
       "),Ev3.Sides{Ev3.Motor}(Ev3.Motor(Ev3.RemoteNode(\"/sys/class/tacho-motor/motor12\",\"192.168.1.27\",ZMQ.Socket(Ptr{Void} @0x00007f90e7b15600,Base._FDWatcher(Ptr{Void} @0x00007f90e9ace020,(1,0),Condition(Any[]),(false,false)))),Set(SubString{ASCIIString}[\"run-timed\",\"stop\",\"run-direct\",\"run-to-rel-pos\",\"reset\",\"run-forever\",\"run-to-abs-pos\"])),Ev3.Motor(Ev3.RemoteNode(\"/sys/class/tacho-motor/motor11\",\"192.168.1.27\",ZMQ.Socket(Ptr{Void} @0x00007f90e8959200,Base._FDWatcher(Ptr{Void} @0x00007f90e9f27cd0,(1,0),Condition(Any[]),(false,false)))),Set(SubString{ASCIIString}[\"run-timed\",\"stop\",\"run-direct\",\"run-to-rel-pos\",\"reset\",\"run-forever\",\"run-to-abs-pos\"]))),Ev3.MappingSensors(Ev3.Sensor(Ev3.RemoteNode(\"/sys/class/lego-sensor/sensor3\",\"192.168.1.27\",ZMQ.Socket(Ptr{Void} @0x00007f90e751da00,Base._FDWatcher(Ptr{Void} @0x00007f90e9e51a10,(1,0),Condition(Any[]),(false,false))))),Ev3.Sensor(Ev3.RemoteNode(\"/sys/class/lego-sensor/sensor8\",\"192.168.1.27\",ZMQ.Socket(Ptr{Void} @0x00007f90e752e600,Base._FDWatcher(Ptr{Void} @0x00007f90e9e54050,(1,0),Condition(Any[]),(false,false))))),Ev3.Sides{Ev3.Odometer}(Ev3.Odometer(Ev3.Motor(Ev3.RemoteNode(\"/sys/class/tacho-motor/motor12\",\"192.168.1.27\",ZMQ.Socket(Ptr{Void} @0x00007f90e7b15600,Base._FDWatcher(Ptr{Void} @0x00007f90e9ace020,(1,0),Condition(Any[]),(false,false)))),Set(SubString{ASCIIString}[\"run-timed\",\"stop\",\"run-direct\",\"run-to-rel-pos\",\"reset\",\"run-forever\",\"run-to-abs-pos\"])),0.0005249333333333334,39456,0.0),Ev3.Odometer(Ev3.Motor(Ev3.RemoteNode(\"/sys/class/tacho-motor/motor11\",\"192.168.1.27\",ZMQ.Socket(Ptr{Void} @0x00007f90e8959200,Base._FDWatcher(Ptr{Void} @0x00007f90e9f27cd0,(1,0),Condition(Any[]),(false,false)))),Set(SubString{ASCIIString}[\"run-timed\",\"stop\",\"run-direct\",\"run-to-rel-pos\",\"reset\",\"run-forever\",\"run-to-abs-pos\"])),0.0005249333333333334,50701,0.0))))"
      ]
     },
     "execution_count": 22,
     "metadata": {},
     "output_type": "execute_result"
    }
   ],
   "source": [
    "hostname = \"192.168.1.27\"\n",
    "meters_per_revolution = 37.2 * 2.54 / 100 / 5 \n",
    "# 37.2 inches in 5 revolutions\n",
    "gyro_port = \"in4\"\n",
    "us_port = \"in1\"\n",
    "motor_ports = Ev3.Sides(\"outC\", \"outB\")\n",
    "distance_between_wheels = 4.5\n",
    "T_origin_to_ultrasound = tformtranslate(0.0254 * [3.0, 0.0])\n",
    "config = Ev3.RobotConfig(hostname,\n",
    "    meters_per_revolution,\n",
    "    gyro_port,\n",
    "    us_port,\n",
    "    motor_ports,\n",
    "    distance_between_wheels,\n",
    "    T_origin_to_ultrasound)\n",
    "\n",
    "robot = Ev3.Robot(config)"
   ]
  },
  {
   "cell_type": "code",
   "execution_count": 23,
   "metadata": {
    "collapsed": false
   },
   "outputs": [
    {
     "data": {
      "text/plain": [
       "Ev3.Map(Tuple{Real,Real}[(-0.23273608642452476,-0.34504543769740836),(-0.23479085938809147,-0.34809176389234764),(-0.23710394219353478,-0.3515210501766358),(-0.23785833069984372,-0.35263947713118404),(-0.23973110501309414,-0.35541597923084245),(-0.242833805477765,-0.3600159218367498),(-0.23728295848169922,-0.3517864527381964),(-0.23635976827759592,-0.3504177669750796),(-0.2387917354943171,-0.354023306647293),(-0.2394551246754679,-0.35500682155420077)  …  (-0.2372374028998298,-0.351718913810619),(-0.23490963196078868,-0.34826785147275835),(-0.2637795531993753,-0.33028048652460207),(-0.2913445885584802,-0.3010957189306967),(-0.3202554388416732,-0.27957548566409357),(-0.3486301168321015,-0.2476704840647688),(-0.392553146297514,-0.21952672578305754),(-0.4187974224753715,-0.18556248339444487),(-0.4514568464141636,-0.14161580801219315),(-0.8939335079851303,0.007395622756572594)],AffineTransforms.AffineTransform[AffineTransforms.AffineTransform{Float64,2}:\n",
       "matrix: 2x2 Array{Float64,2}:\n",
       " -0.559193   0.829038\n",
       " -0.829038  -0.559193\n",
       "translation: [0.0,0.0]\n",
       ",AffineTransforms.AffineTransform{Float64,2}:\n",
       "matrix: 2x2 Array{Float64,2}:\n",
       " -0.559193   0.829038\n",
       " -0.829038  -0.559193\n",
       "translation: [-0.002054772963566708,-0.003046326194939253]\n",
       ",AffineTransforms.AffineTransform{Float64,2}:\n",
       "matrix: 2x2 Array{Float64,2}:\n",
       " -0.559193   0.829038\n",
       " -0.829038  -0.559193\n",
       "translation: [-0.00660462738289299,-0.0097917627694476]\n",
       ",AffineTransforms.AffineTransform{Float64,2}:\n",
       "matrix: 2x2 Array{Float64,2}:\n",
       " -0.559193   0.829038\n",
       " -0.829038  -0.559193\n",
       "translation: [-0.010714173310026404,-0.015884415159326107]\n",
       ",AffineTransforms.AffineTransform{Float64,2}:\n",
       "matrix: 2x2 Array{Float64,2}:\n",
       " -0.559193   0.829038\n",
       " -0.829038  -0.559193\n",
       "translation: [-0.01482371923715982,-0.021977067549204612]\n",
       ",AffineTransforms.AffineTransform{Float64,2}:\n",
       "matrix: 2x2 Array{Float64,2}:\n",
       " -0.559193   0.829038\n",
       " -0.829038  -0.559193\n",
       "translation: [-0.021281577122655188,-0.03155123559044226]\n",
       ",AffineTransforms.AffineTransform{Float64,2}:\n",
       "matrix: 2x2 Array{Float64,2}:\n",
       " -0.559193   0.829038\n",
       " -0.829038  -0.559193\n",
       "translation: [-0.028032974002945802,-0.04156059308809981]\n",
       ",AffineTransforms.AffineTransform{Float64,2}:\n",
       "matrix: 2x2 Array{Float64,2}:\n",
       " -0.559193   0.829038\n",
       " -0.829038  -0.559193\n",
       "translation: [-0.032142519930079216,-0.04765324547797832]\n",
       ",AffineTransforms.AffineTransform{Float64,2}:\n",
       "matrix: 2x2 Array{Float64,2}:\n",
       " -0.559193   0.829038\n",
       " -0.829038  -0.559193\n",
       "translation: [-0.036252065857212634,-0.05374589786785683]\n",
       ",AffineTransforms.AffineTransform{Float64,2}:\n",
       "matrix: 2x2 Array{Float64,2}:\n",
       " -0.559193   0.829038\n",
       " -0.829038  -0.559193\n",
       "translation: [-0.041388998266129406,-0.06136171335520496]\n",
       "  …  AffineTransforms.AffineTransform{Float64,2}:\n",
       "matrix: 2x2 Array{Float64,2}:\n",
       " -0.766044  -0.642788\n",
       "  0.642788  -0.766044\n",
       "translation: [-1.2098706892821478,0.3834256314925701]\n",
       ",AffineTransforms.AffineTransform{Float64,2}:\n",
       "matrix: 2x2 Array{Float64,2}:\n",
       " -0.766044  -0.642788\n",
       "  0.642788  -0.766044\n",
       "translation: [-1.224347090750433,0.39557277462538243]\n",
       ",AffineTransforms.AffineTransform{Float64,2}:\n",
       "matrix: 2x2 Array{Float64,2}:\n",
       " -0.766044  -0.642788\n",
       "  0.642788  -0.766044\n",
       "translation: [-1.2396277367447341,0.408394759043351]\n",
       ",AffineTransforms.AffineTransform{Float64,2}:\n",
       "matrix: 2x2 Array{Float64,2}:\n",
       " -0.766044  -0.642788\n",
       "  0.642788  -0.766044\n",
       "translation: [-1.2490776099254204,0.41632414414393676]\n",
       ",AffineTransforms.AffineTransform{Float64,2}:\n",
       "matrix: 2x2 Array{Float64,2}:\n",
       " -0.766044  -0.642788\n",
       "  0.642788  -0.766044\n",
       "translation: [-1.2563158106595629,0.42239771571034285]\n",
       ",AffineTransforms.AffineTransform{Float64,2}:\n",
       "matrix: 2x2 Array{Float64,2}:\n",
       " -0.766044  -0.642788\n",
       "  0.642788  -0.766044\n",
       "translation: [-1.261543400078666,0.4267841840638585]\n",
       ",AffineTransforms.AffineTransform{Float64,2}:\n",
       "matrix: 2x2 Array{Float64,2}:\n",
       " -0.766044  -0.642788\n",
       "  0.642788  -0.766044\n",
       "translation: [-1.267173111760777,0.43150807305995215]\n",
       ",AffineTransforms.AffineTransform{Float64,2}:\n",
       "matrix: 2x2 Array{Float64,2}:\n",
       " -0.766044  -0.642788\n",
       "  0.642788  -0.766044\n",
       "translation: [-1.271998578916872,0.43555712077088954]\n",
       ",AffineTransforms.AffineTransform{Float64,2}:\n",
       "matrix: 2x2 Array{Float64,2}:\n",
       " -0.766044  -0.642788\n",
       "  0.642788  -0.766044\n",
       "translation: [-1.2776282905989829,0.4402810097669832]\n",
       ",AffineTransforms.AffineTransform{Float64,2}:\n",
       "matrix: 2x2 Array{Float64,2}:\n",
       " -0.766044  -0.642788\n",
       "  0.642788  -0.766044\n",
       "translation: [-1.2810463298345502,0.44314908522889723]\n",
       "])"
      ]
     },
     "execution_count": 23,
     "metadata": {},
     "output_type": "execute_result"
    }
   ],
   "source": [
    "m = Ev3.run_mapping(robot)"
   ]
  },
  {
   "cell_type": "code",
   "execution_count": 24,
   "metadata": {
    "collapsed": false,
    "scrolled": false
   },
   "outputs": [
    {
     "data": {
      "image/png": "[encoded data removed]",
      "text/plain": [
       "PyPlot.Figure(PyObject <matplotlib.figure.Figure object at 0x31bf4dd50>)"
      ]
     },
     "metadata": {},
     "output_type": "display_data"
    },
    {
     "data": {
      "text/plain": [
       "(-1.4000000000000001,0.19999999999999996,-0.4,0.5)"
      ]
     },
     "execution_count": 24,
     "metadata": {},
     "output_type": "execute_result"
    }
   ],
   "source": [
    "plot([x[1] for x in m.points], [x[2] for x in m.points], \"ro\")\n",
    "hold(true)\n",
    "plot([x.offset[1] for x in m.path], [x.offset[2] for x in m.path], \"g.-\")\n",
    "axis(\"equal\")"
   ]
  },
  {
   "cell_type": "code",
   "execution_count": 5,
   "metadata": {
    "collapsed": false
   },
   "outputs": [
    {
     "data": {
      "text/plain": [
       "2-element Array{Any,1}:\n",
       " \"ok\"\n",
       " \"ok\""
      ]
     },
     "execution_count": 5,
     "metadata": {},
     "output_type": "execute_result"
    }
   ],
   "source": [
    "map(Ev3.stop, robot.motors)"
   ]
  },
  {
   "cell_type": "code",
   "execution_count": null,
   "metadata": {
    "collapsed": true
   },
   "outputs": [],
   "source": []
  }
 ],
 "metadata": {
  "kernelspec": {
   "display_name": "Julia 0.4.1",
   "language": "julia",
   "name": "julia-0.4"
  },
  "language_info": {
   "file_extension": ".jl",
   "mimetype": "application/julia",
   "name": "julia",
   "version": "0.4.1"
  }
 },
 "nbformat": 4,
 "nbformat_minor": 0
}
