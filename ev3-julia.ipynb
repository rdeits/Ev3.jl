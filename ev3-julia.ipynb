{
 "cells": [
  {
   "cell_type": "code",
   "execution_count": 102,
   "metadata": {
    "collapsed": false
   },
   "outputs": [
    {
     "name": "stderr",
     "output_type": "stream",
     "text": [
      "WARNING: replacing module EV3\n"
     ]
    },
    {
     "data": {
      "text/plain": [
       "EV3"
      ]
     },
     "execution_count": 102,
     "metadata": {},
     "output_type": "execute_result"
    }
   ],
   "source": [
    "module EV3\n",
    "\n",
    "using ZMQ\n",
    "\n",
    "export Motor, run_forever, stop\n",
    "\n",
    "SYS_ROOT = \"/sys\"\n",
    "\n",
    "abstract LegoDevice\n",
    "abstract LegoInput <: LegoDevice\n",
    "abstract LegoOutput <: LegoDevice\n",
    "\n",
    "abstract AbstractNode\n",
    "\n",
    "immutable LocalNode <: AbstractNode\n",
    "    path::AbstractString\n",
    "end\n",
    "\n",
    "immutable RemoteNode <: AbstractNode\n",
    "    path::AbstractString\n",
    "    hostname::AbstractString\n",
    "    socket::Socket\n",
    "end\n",
    "\n",
    "immutable Motor <: LegoOutput \n",
    "    port::AbstractString\n",
    "    node::AbstractNode\n",
    "end\n",
    "\n",
    "immutable Sensor <: LegoInput\n",
    "    port::AbstractString\n",
    "    node::AbstractNode\n",
    "end\n",
    "\n",
    "function Motor(port::AbstractString, hostname::Union{Void, AbstractString}=nothing)\n",
    "    if hostname == nothing\n",
    "        Motor(port, LocalNode(\"$(SYS_ROOT)/class/tacho-motor/$(port)\"))\n",
    "    else\n",
    "        ctx = Context()\n",
    "        socket = Socket(ctx, REQ)\n",
    "        ZMQ.connect(socket, \"tcp://$(hostname):5555\")\n",
    "        Motor(port, RemoteNode(\"$(SYS_ROOT)/class/tacho-motor/$(port)\", \n",
    "        hostname,\n",
    "        socket))\n",
    "    end\n",
    "end\n",
    "\n",
    "function Sensor(port::AbstractString, hostname::Union{Void, AbstractString}=nothing)\n",
    "    if hostname == nothing\n",
    "        Sensor(port, LocalNode(\"$(SYS_ROOT)/class/lego-sensor/$(port)\"))\n",
    "    else\n",
    "        ctx = Context()\n",
    "        socket = Socket(ctx, REQ)\n",
    "        ZMQ.connect(socket, \"tcp://$(hostname):5555\")\n",
    "        Sensor(port, RemoteNode(\"$(SYS_ROOT)/class/lego-sensor/$(port)\", \n",
    "        hostname,\n",
    "        socket))\n",
    "    end\n",
    "end\n",
    "\n",
    "function run_forever(motor::Motor, speed=100)\n",
    "    write(\"on\", motor.node, \"speed_regulation\")\n",
    "    write(string(speed), motor.node, \"speed_sp\")\n",
    "    write(\"run-forever\", motor.node, \"command\")\n",
    "end\n",
    "\n",
    "function stop(motor::Motor)\n",
    "    write(\"stop\", motor.node, \"command\")\n",
    "end\n",
    "\n",
    "function write(data::AbstractString, node::LocalNode, file::AbstractString)\n",
    "    open(f -> write(f, data), joinpath(node.path, file))\n",
    "end\n",
    "\n",
    "function write(data::AbstractString, node::RemoteNode, file::AbstractString)\n",
    "    command = \"w:$(data):$(node.path)/$(file)\"\n",
    "    ZMQ.send(node.socket, command)\n",
    "    msg = ZMQ.recv(node.socket)\n",
    "    out = convert(IOStream, msg)\n",
    "    seek(out, 0)\n",
    "    return bytestring(out)\n",
    "end\n",
    "\n",
    "function read(node::RemoteNode, file::AbstractString)\n",
    "    command = \"r:$(node.path)/$(file)\"\n",
    "    ZMQ.send(node.socket, command)\n",
    "    msg = ZMQ.recv(node.socket)\n",
    "    out = convert(IOStream, msg)\n",
    "    seek(out, 0)\n",
    "    return bytestring(out)\n",
    "end\n",
    "\n",
    "function get_value0(sensor::Sensor)\n",
    "    read(sensor.node, \"value0\")\n",
    "end\n",
    "\n",
    "function get_position(motor::Motor)\n",
    "    read(motor.node, \"position\")\n",
    "end\n",
    "\n",
    "end"
   ]
  },
  {
   "cell_type": "code",
   "execution_count": 103,
   "metadata": {
    "collapsed": false
   },
   "outputs": [],
   "source": [
    "import EV3"
   ]
  },
  {
   "cell_type": "code",
   "execution_count": 106,
   "metadata": {
    "collapsed": false
   },
   "outputs": [
    {
     "data": {
      "text/plain": [
       "EV3.Motor(\"motor1\",EV3.RemoteNode(\"/sys/class/tacho-motor/motor1\",\"192.168.1.27\",ZMQ.Socket(Ptr{Void} @0x00007fdfc5b59800,Base._FDWatcher(Ptr{Void} @0x00007fdfc8ce1c20,(1,0),Condition(Any[]),(false,false)))))"
      ]
     },
     "execution_count": 106,
     "metadata": {},
     "output_type": "execute_result"
    }
   ],
   "source": [
    "motor = EV3.Motor(\"motor1\", \"192.168.1.27\")"
   ]
  },
  {
   "cell_type": "code",
   "execution_count": 112,
   "metadata": {
    "collapsed": false
   },
   "outputs": [
    {
     "data": {
      "text/plain": [
       "\"702\\n\""
      ]
     },
     "execution_count": 112,
     "metadata": {},
     "output_type": "execute_result"
    }
   ],
   "source": [
    "EV3.get_position(motor)"
   ]
  },
  {
   "cell_type": "code",
   "execution_count": 109,
   "metadata": {
    "collapsed": false
   },
   "outputs": [
    {
     "data": {
      "text/plain": [
       "\"\""
      ]
     },
     "execution_count": 109,
     "metadata": {},
     "output_type": "execute_result"
    }
   ],
   "source": [
    "EV3.run_forever(motor, 300)"
   ]
  },
  {
   "cell_type": "code",
   "execution_count": 110,
   "metadata": {
    "collapsed": false
   },
   "outputs": [
    {
     "data": {
      "text/plain": [
       "\"\""
      ]
     },
     "execution_count": 110,
     "metadata": {},
     "output_type": "execute_result"
    }
   ],
   "source": [
    "EV3.stop(motor)"
   ]
  },
  {
   "cell_type": "code",
   "execution_count": 91,
   "metadata": {
    "collapsed": false
   },
   "outputs": [
    {
     "data": {
      "text/plain": [
       "EV3.Sensor(\"sensor0\",EV3.RemoteNode(\"/sys/class/lego-sensor/sensor0\",\"192.168.1.27\",ZMQ.Socket(Ptr{Void} @0x00007fdfc51aa000,Base._FDWatcher(Ptr{Void} @0x00007fdfc90831a0,(1,0),Condition(Any[]),(false,false)))))"
      ]
     },
     "execution_count": 91,
     "metadata": {},
     "output_type": "execute_result"
    }
   ],
   "source": [
    "us = EV3.Sensor(\"sensor0\", \"192.168.1.27\")"
   ]
  },
  {
   "cell_type": "code",
   "execution_count": 92,
   "metadata": {
    "collapsed": false
   },
   "outputs": [
    {
     "name": "stdout",
     "output_type": "stream",
     "text": [
      "93\n",
      "93\n",
      "93\n",
      "93\n",
      "93\n",
      "93\n",
      "93\n",
      "93\n",
      "93\n",
      "93\n",
      "93\n",
      "93\n",
      "93\n",
      "86\n",
      "107\n",
      "67\n",
      "77\n",
      "334\n",
      "326\n",
      "326\n",
      "2550\n",
      "2550\n",
      "2550\n",
      "2550\n",
      "2550\n",
      "2550\n",
      "2550\n",
      "2550\n",
      "2550\n",
      "546\n",
      "546\n",
      "546\n",
      "2550\n",
      "2550\n",
      "2550\n",
      "2550\n",
      "2550\n",
      "2550\n",
      "2550\n",
      "2550\n",
      "2550\n",
      "1564\n",
      "1533\n",
      "1528\n",
      "1520\n",
      "1513\n",
      "1507\n",
      "1498\n",
      "1498\n",
      "1495\n",
      "1495\n",
      "1498\n",
      "1527\n",
      "2550\n",
      "2550\n",
      "2550\n",
      "2550\n",
      "2550\n",
      "2550\n",
      "2550\n",
      "2550\n",
      "2550\n",
      "2550\n",
      "2550\n",
      "2550\n",
      "2550\n",
      "1894\n",
      "1900\n",
      "2550\n",
      "2550\n",
      "2550\n",
      "2550\n",
      "2550\n",
      "2550\n",
      "2550\n",
      "2550\n",
      "2550\n",
      "2550\n",
      "2550\n",
      "2550\n",
      "1534\n",
      "1528\n",
      "1543\n",
      "2550\n",
      "2550\n",
      "2550\n",
      "2550\n",
      "2550\n",
      "2550\n",
      "2550\n",
      "2550\n",
      "2550\n",
      "2550\n",
      "2550\n",
      "2550\n",
      "2550\n",
      "2550\n",
      "2550\n",
      "130\n",
      "326\n",
      "326\n",
      "199\n",
      "189\n",
      "166\n",
      "164\n",
      "139\n",
      "139\n",
      "143\n",
      "149\n",
      "147\n",
      "156\n",
      "2550\n",
      "2550\n",
      "2550\n",
      "2550\n",
      "2550\n",
      "2550\n",
      "2550\n",
      "2550\n",
      "2550\n",
      "2550\n",
      "2550\n",
      "2550\n",
      "326\n",
      "326\n",
      "326\n",
      "326\n",
      "183\n",
      "183\n",
      "183\n",
      "183\n",
      "183\n",
      "183\n",
      "183\n",
      "1517\n",
      "1534\n",
      "2550\n",
      "2550\n",
      "2550\n",
      "2550\n"
     ]
    },
    {
     "ename": "LoadError",
     "evalue": "LoadError: InterruptException:\nwhile loading In[92], in expression starting on line 1",
     "output_type": "error",
     "traceback": [
      "LoadError: InterruptException:\nwhile loading In[92], in expression starting on line 1",
      ""
     ]
    }
   ],
   "source": [
    "while true\n",
    "    println(parse(Int, EV3.get_value0(us)))\n",
    "end"
   ]
  },
  {
   "cell_type": "code",
   "execution_count": 1,
   "metadata": {
    "collapsed": true
   },
   "outputs": [],
   "source": [
    "using ZMQ"
   ]
  },
  {
   "cell_type": "code",
   "execution_count": 2,
   "metadata": {
    "collapsed": false
   },
   "outputs": [
    {
     "name": "stderr",
     "output_type": "stream",
     "text": [
      "WARNING: Context(n::Integer) is deprecated, use Context() instead.\n"
     ]
    },
    {
     "data": {
      "text/plain": [
       "send_command (generic function with 1 method)"
      ]
     },
     "execution_count": 2,
     "metadata": {},
     "output_type": "execute_result"
    },
    {
     "name": "stderr",
     "output_type": "stream",
     "text": [
      " in depwarn at deprecated.jl:73\n",
      " in call at deprecated.jl:50\n",
      " in include_string at loading.jl:266\n",
      " in execute_request_0x535c5df2 at /Users/rdeits/.julia/IJulia/src/execute_request.jl:177\n",
      " in eventloop at /Users/rdeits/.julia/IJulia/src/IJulia.jl:141\n",
      " in anonymous at task.jl:447\n",
      "while loading In[2], in expression starting on line 1\n"
     ]
    }
   ],
   "source": [
    "ctx = Context(1)\n",
    "sock = Socket(ctx, REQ)\n",
    "ZMQ.connect(sock, \"tcp://192.168.1.25:5555\")\n",
    "\n",
    "function send_command(sock::Socket, command::AbstractString)\n",
    "    ZMQ.send(sock, command)\n",
    "    msg = ZMQ.recv(sock)\n",
    "    out = convert(IOStream, msg)\n",
    "    seek(out, 0)\n",
    "    return bytestring(out)\n",
    "end\n"
   ]
  },
  {
   "cell_type": "code",
   "execution_count": 7,
   "metadata": {
    "collapsed": false
   },
   "outputs": [
    {
     "data": {
      "text/plain": [
       "\"\""
      ]
     },
     "execution_count": 7,
     "metadata": {},
     "output_type": "execute_result"
    }
   ],
   "source": [
    "send_command(sock, \"echo 50 > /sys/class/tacho-motor/motor0/duty_cycle_sp\")\n",
    "send_command(sock, \"echo run-forever > /sys/class/tacho-motor/motor0/command\")\n"
   ]
  },
  {
   "cell_type": "code",
   "execution_count": 8,
   "metadata": {
    "collapsed": false
   },
   "outputs": [
    {
     "data": {
      "text/plain": [
       "\"\""
      ]
     },
     "execution_count": 8,
     "metadata": {},
     "output_type": "execute_result"
    }
   ],
   "source": [
    "send_command(sock, \"echo stop > /sys/class/tacho-motor/motor0/command\")"
   ]
  },
  {
   "cell_type": "code",
   "execution_count": 5,
   "metadata": {
    "collapsed": false
   },
   "outputs": [
    {
     "name": "stdout",
     "output_type": "stream",
     "text": [
      "12345678910"
     ]
    },
    {
     "data": {
      "text/plain": [
       "\"\""
      ]
     },
     "execution_count": 5,
     "metadata": {},
     "output_type": "execute_result"
    }
   ],
   "source": [
    "send_command(sock, \"echo on > /sys/class/tacho-motor/motor0/speed_regulation\")\n",
    "for i = 1:10\n",
    "    print(i)\n",
    "    send_command(sock, \"echo $(i*20) > /sys/class/tacho-motor/motor0/speed_sp\")\n",
    "    send_command(sock, \"echo run-forever > /sys/class/tacho-motor/motor0/command\")\n",
    "    sleep(1)\n",
    "end\n",
    "send_command(sock, \"echo stop > /sys/class/tacho-motor/motor0/command\")"
   ]
  },
  {
   "cell_type": "code",
   "execution_count": 9,
   "metadata": {
    "collapsed": false
   },
   "outputs": [
    {
     "data": {
      "text/plain": [
       "\"4986\\n\""
      ]
     },
     "execution_count": 9,
     "metadata": {},
     "output_type": "execute_result"
    }
   ],
   "source": [
    "send_command(sock, \"cat /sys/class/tacho-motor/motor0/position\")"
   ]
  },
  {
   "cell_type": "code",
   "execution_count": null,
   "metadata": {
    "collapsed": true
   },
   "outputs": [],
   "source": [
    "import zmq\n",
    "import subprocess\n",
    "import os.path\n",
    "\n",
    "context = zmq.Context()\n",
    "socket = context.socket(zmq.REP)\n",
    "socket.bind(\"tcp://*:5555\")\n",
    "\n",
    "while True:\n",
    "    message = socket.recv()\n",
    "    print(\"Received request: %s\" % message)\n",
    "    if message.startswith(\"w:\"):\n",
    "        prefix, data, path = message.split(\":\")\n",
    "        path = os.path.abspath(path)\n",
    "        command = \"echo %s > %s\" % (data, path)\n",
    "    elif message.startswith(\"r:\")\n",
    "        prefix, path = message.split(\":\")\n",
    "        path = os.path.abspath(path)\n",
    "        command = \"cat %s\" % path\n",
    "    else:\n",
    "        print \"unrecognized prefix: %s\" % message[:2]\n",
    "        continue\n",
    "    print(\"Running: %s\" % command)\n",
    "    try:\n",
    "        response = subprocess.check_output(command, shell=True)\n",
    "        socket.send(response)\n",
    "    except subprocess.CalledProcessError as e:\n",
    "        print e"
   ]
  }
 ],
 "metadata": {
  "kernelspec": {
   "display_name": "Julia 0.4.1",
   "language": "julia",
   "name": "julia-0.4"
  },
  "language_info": {
   "file_extension": ".jl",
   "mimetype": "application/julia",
   "name": "julia",
   "version": "0.4.1"
  }
 },
 "nbformat": 4,
 "nbformat_minor": 0
}
