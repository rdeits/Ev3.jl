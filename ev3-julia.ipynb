{
 "cells": [
  {
   "cell_type": "code",
   "execution_count": 2,
   "metadata": {
    "collapsed": false
   },
   "outputs": [
    {
     "data": {
      "text/plain": [
       "4-element Array{ByteString,1}:\n",
       " \"/Applications/Julia-0.4.1.app/Contents/Resources/julia/local/share/julia/site/v0.4\"\n",
       " \"/Applications/Julia-0.4.1.app/Contents/Resources/julia/share/julia/site/v0.4\"      \n",
       " \"/Users/rdeits/6.338/hw2\"                                                           \n",
       " \"..\"                                                                                "
      ]
     },
     "execution_count": 2,
     "metadata": {},
     "output_type": "execute_result"
    }
   ],
   "source": [
    "push!(LOAD_PATH, \"..\")"
   ]
  },
  {
   "cell_type": "code",
   "execution_count": 26,
   "metadata": {
    "collapsed": false
   },
   "outputs": [
    {
     "name": "stderr",
     "output_type": "stream",
     "text": [
      "WARNING: replacing module Ev3\n"
     ]
    }
   ],
   "source": [
    "reload(\"Ev3\")\n",
    "import Ev3"
   ]
  },
  {
   "cell_type": "code",
   "execution_count": 54,
   "metadata": {
    "collapsed": false
   },
   "outputs": [
    {
     "data": {
      "text/plain": [
       "Ev3.Motor(Ev3.RemoteNode(\"/sys/class/tacho-motor/motor0\",\"192.168.1.27\",ZMQ.Socket(Ptr{Void} @0x00007fc7c217a000,Base._FDWatcher(Ptr{Void} @0x00007fc7c16b2710,(1,0),Condition(Any[]),(false,false)))),Set(SubString{ASCIIString}[\"run-timed\",\"stop\",\"run-direct\",\"run-to-rel-pos\",\"reset\",\"run-forever\",\"run-to-abs-pos\"]))"
      ]
     },
     "execution_count": 54,
     "metadata": {},
     "output_type": "execute_result"
    }
   ],
   "source": [
    "motor = Ev3.Motor(\"outA\", \"192.168.1.27\")"
   ]
  },
  {
   "cell_type": "code",
   "execution_count": 55,
   "metadata": {
    "collapsed": false
   },
   "outputs": [
    {
     "data": {
      "text/plain": [
       "Set(SubString{ASCIIString}[\"run-timed\",\"stop\",\"run-direct\",\"run-to-rel-pos\",\"reset\",\"run-forever\",\"run-to-abs-pos\"])"
      ]
     },
     "execution_count": 55,
     "metadata": {},
     "output_type": "execute_result"
    }
   ],
   "source": [
    "Ev3.commands(motor)"
   ]
  },
  {
   "cell_type": "code",
   "execution_count": 56,
   "metadata": {
    "collapsed": false
   },
   "outputs": [
    {
     "data": {
      "text/plain": [
       "\"\""
      ]
     },
     "execution_count": 56,
     "metadata": {},
     "output_type": "execute_result"
    }
   ],
   "source": [
    "write(motor, \"speed_regulation\", \"on\")\n",
    "Ev3.speed_sp(motor, 100)\n",
    "write(motor, \"command\", \"run-forever\")"
   ]
  },
  {
   "cell_type": "code",
   "execution_count": 57,
   "metadata": {
    "collapsed": false
   },
   "outputs": [
    {
     "data": {
      "text/plain": [
       "\"170\""
      ]
     },
     "execution_count": 57,
     "metadata": {},
     "output_type": "execute_result"
    }
   ],
   "source": [
    "Ev3.speed_sp(motor, 170)\n",
    "Ev3.speed_sp(motor)"
   ]
  },
  {
   "cell_type": "code",
   "execution_count": 58,
   "metadata": {
    "collapsed": false
   },
   "outputs": [
    {
     "data": {
      "text/plain": [
       "\"\""
      ]
     },
     "execution_count": 58,
     "metadata": {},
     "output_type": "execute_result"
    }
   ],
   "source": [
    "Ev3.stop(motor, \"brake\")"
   ]
  },
  {
   "cell_type": "code",
   "execution_count": 18,
   "metadata": {
    "collapsed": false
   },
   "outputs": [
    {
     "data": {
      "text/plain": [
       "Ev3.Sensor(Ev3.RemoteNode(\"/sys/class/lego-sensor/sensor1\",\"192.168.1.27\",ZMQ.Socket(Ptr{Void} @0x00007fd9bc807e00,Base._FDWatcher(Ptr{Void} @0x00007fd9bc5fbf60,(1,0),Condition(Any[]),(false,false)))))"
      ]
     },
     "execution_count": 18,
     "metadata": {},
     "output_type": "execute_result"
    }
   ],
   "source": [
    "us = Ev3.Sensor(\"in1\", \"192.168.1.27\")"
   ]
  },
  {
   "cell_type": "code",
   "execution_count": 5,
   "metadata": {
    "collapsed": false
   },
   "outputs": [
    {
     "data": {
      "text/plain": [
       "321"
      ]
     },
     "execution_count": 5,
     "metadata": {},
     "output_type": "execute_result"
    }
   ],
   "source": [
    "Ev3.value0(us)"
   ]
  },
  {
   "cell_type": "code",
   "execution_count": 27,
   "metadata": {
    "collapsed": false
   },
   "outputs": [
    {
     "data": {
      "text/plain": [
       "Ev3.Sensor(Ev3.RemoteNode(\"/sys/class/lego-sensor/sensor3\",\"192.168.1.27\",ZMQ.Socket(Ptr{Void} @0x00007fd9bb4ee800,Base._FDWatcher(Ptr{Void} @0x00007fd9bf2df8e0,(1,0),Condition(Any[]),(false,false)))))"
      ]
     },
     "execution_count": 27,
     "metadata": {},
     "output_type": "execute_result"
    }
   ],
   "source": [
    "gyro = Ev3.Sensor(\"in4\", \"192.168.1.27\")"
   ]
  },
  {
   "cell_type": "code",
   "execution_count": 31,
   "metadata": {
    "collapsed": false
   },
   "outputs": [
    {
     "name": "stdout",
     "output_type": "stream",
     "text": [
      "  1.213552 seconds (279 allocations: 13.203 KB)\n"
     ]
    }
   ],
   "source": [
    "@time for j = 1:10; Ev3.value0(gyro); end"
   ]
  },
  {
   "cell_type": "code",
   "execution_count": 24,
   "metadata": {
    "collapsed": false
   },
   "outputs": [
    {
     "name": "stderr",
     "output_type": "stream",
     "text": [
      "WARNING: replacing module Mapping\n"
     ]
    },
    {
     "data": {
      "text/plain": [
       "Mapping"
      ]
     },
     "execution_count": 24,
     "metadata": {},
     "output_type": "execute_result"
    }
   ],
   "source": [
    "module Mapping\n",
    "\n",
    "import Ev3\n",
    "\n",
    "type Sides{T}\n",
    "    right::T\n",
    "    left::T\n",
    "end \n",
    "\n",
    "type Odometer\n",
    "    motor::Ev3.Motor\n",
    "    ticks_per_revolution::Real\n",
    "    total_revolutions::Real\n",
    "    last_position::Real\n",
    "end\n",
    "\n",
    "function Odometer(motor::Ev3.Motor)\n",
    "    ticks_per_revolution = read(motor, \"counts_per_rot\", Int)\n",
    "    current_position = read(motor, \"position\", Int)\n",
    "    Odometer(motor, ticks_per_revolution, 0.0, current_position)\n",
    "end\n",
    "\n",
    "function update(odo::Odometer)\n",
    "    current_position = get_position(odo.motor)\n",
    "    delta = current_position - odo.last_position\n",
    "    if abs(delta) > (odo.ticks_per_revolution / 2.0)\n",
    "        error(\"wraparound not implemented\")\n",
    "    end\n",
    "    odo.last_position = current_position\n",
    "    total_revolutions += delta / odo.ticks_per_revolution\n",
    "end\n",
    "\n",
    "type StateEstimator\n",
    "    odos::Sides{Odometer}\n",
    "    gyro::Sensor\n",
    "    saved_orientation\n",
    "end\n",
    "\n",
    "function update(se::StateEstimator)\n",
    "    update(odos.right)\n",
    "    update(odos.left)\n",
    "    \n",
    "\n",
    "type MappingRobot\n",
    "    motors::Sides{Ev3.Motor}\n",
    "    odos::Sides{Odometer}\n",
    "    distance_sensor::Ev3.Sensor\n",
    "end\n",
    "\n",
    "function MappingRobot(hostname)\n",
    "    motors = Sides(Ev3.Motor(\"outA\", hostname), Ev3.Motor(\"outB\", hostname))\n",
    "    odos = Sides(Odometer(motors.right), Odometer(motors.left))\n",
    "    sensor = Ev3.Sensor(\"in1\", hostname)\n",
    "    MappingRobot(motors, odos, sensor)\n",
    "end\n",
    "\n",
    "type RobotState\n",
    "    translation\n",
    "    yaw\n",
    "end\n",
    "\n",
    "type Map\n",
    "    points\n",
    "\n",
    "end\n",
    "\n",
    "end"
   ]
  }
 ],
 "metadata": {
  "kernelspec": {
   "display_name": "Julia 0.4.1",
   "language": "julia",
   "name": "julia-0.4"
  },
  "language_info": {
   "file_extension": ".jl",
   "mimetype": "application/julia",
   "name": "julia",
   "version": "0.4.1"
  }
 },
 "nbformat": 4,
 "nbformat_minor": 0
}
