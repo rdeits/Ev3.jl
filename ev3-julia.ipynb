{
 "cells": [
  {
   "cell_type": "code",
   "execution_count": 1,
   "metadata": {
    "collapsed": false
   },
   "outputs": [
    {
     "data": {
      "text/plain": [
       "4-element Array{ByteString,1}:\n",
       " \"/Applications/Julia-0.4.1.app/Contents/Resources/julia/local/share/julia/site/v0.4\"\n",
       " \"/Applications/Julia-0.4.1.app/Contents/Resources/julia/share/julia/site/v0.4\"      \n",
       " \"/Users/rdeits/6.338/hw2\"                                                           \n",
       " \"..\"                                                                                "
      ]
     },
     "execution_count": 1,
     "metadata": {},
     "output_type": "execute_result"
    }
   ],
   "source": [
    "push!(LOAD_PATH, \"..\")"
   ]
  },
  {
   "cell_type": "code",
   "execution_count": 3,
   "metadata": {
    "collapsed": true
   },
   "outputs": [],
   "source": [
    "using PyPlot"
   ]
  },
  {
   "cell_type": "code",
   "execution_count": 4,
   "metadata": {
    "collapsed": true
   },
   "outputs": [],
   "source": [
    "type Sides{T}\n",
    "    right::T\n",
    "    left::T\n",
    "end "
   ]
  },
  {
   "cell_type": "code",
   "execution_count": 39,
   "metadata": {
    "collapsed": false
   },
   "outputs": [
    {
     "name": "stderr",
     "output_type": "stream",
     "text": [
      "WARNING: replacing module Ev3\n"
     ]
    }
   ],
   "source": [
    "reload(\"Ev3\")\n",
    "import Ev3\n",
    "import Base: start, next, done"
   ]
  },
  {
   "cell_type": "code",
   "execution_count": 40,
   "metadata": {
    "collapsed": false
   },
   "outputs": [
    {
     "name": "stdout",
     "output_type": "stream",
     "text": [
      "  0.169771 seconds (302 allocations: 14.156 KB)\n"
     ]
    }
   ],
   "source": [
    "us = Ev3.Sensor(\"in1\", \"192.168.1.27\")\n",
    "gyro = Ev3.Sensor(\"in4\", \"192.168.1.27\")\n",
    "@time for j = 1:10; Ev3.value0(gyro); end"
   ]
  },
  {
   "cell_type": "code",
   "execution_count": 7,
   "metadata": {
    "collapsed": false
   },
   "outputs": [
    {
     "data": {
      "text/plain": [
       "Ev3.Motor(Ev3.RemoteNode(\"/sys/class/tacho-motor/motor10\",\"192.168.1.27\",ZMQ.Socket(Ptr{Void} @0x00007fd0db1fb000,Base._FDWatcher(Ptr{Void} @0x00007fd0e0625830,(1,0),Condition(Any[]),(false,false)))),Set(SubString{ASCIIString}[\"run-timed\",\"stop\",\"run-direct\",\"run-to-rel-pos\",\"reset\",\"run-forever\",\"run-to-abs-pos\"]))"
      ]
     },
     "execution_count": 7,
     "metadata": {},
     "output_type": "execute_result"
    }
   ],
   "source": [
    "head = Ev3.Motor(\"outD\", \"192.168.1.27\")"
   ]
  },
  {
   "cell_type": "code",
   "execution_count": 42,
   "metadata": {
    "collapsed": false
   },
   "outputs": [
    {
     "data": {
      "text/plain": [
       "\"ok\""
      ]
     },
     "execution_count": 42,
     "metadata": {},
     "output_type": "execute_result"
    }
   ],
   "source": [
    "motors = Dict(:right=>Ev3.Motor(\"outC\", \"192.168.1.27\"), :left=>Ev3.Motor(\"outB\", \"192.168.1.27\"))\n",
    "Ev3.speed_regulation(motors[:right], \"on\")\n",
    "Ev3.speed_regulation(motors[:left], \"on\")\n",
    "Ev3.speed_sp(motors[:right], 100)\n",
    "Ev3.speed_sp(motors[:left], 100)\n",
    "Ev3.position_sp(motors[:right], 360 * 5)\n",
    "Ev3.position_sp(motors[:left], 360 * 5)\n",
    "Ev3.command(motors[:right], \"run-to-rel-pos\")\n",
    "Ev3.command(motors[:left], \"run-to-rel-pos\")"
   ]
  },
  {
   "cell_type": "code",
   "execution_count": 16,
   "metadata": {
    "collapsed": false
   },
   "outputs": [
    {
     "data": {
      "text/plain": [
       "-241"
      ]
     },
     "execution_count": 16,
     "metadata": {},
     "output_type": "execute_result"
    }
   ],
   "source": [
    "zero_pos = Ev3.position(head)"
   ]
  },
  {
   "cell_type": "code",
   "execution_count": 34,
   "metadata": {
    "collapsed": false
   },
   "outputs": [
    {
     "data": {
      "text/plain": [
       "0-element Array{Any,1}"
      ]
     },
     "execution_count": 34,
     "metadata": {},
     "output_type": "execute_result"
    }
   ],
   "source": [
    "map = Any[]"
   ]
  },
  {
   "cell_type": "code",
   "execution_count": 35,
   "metadata": {
    "collapsed": false
   },
   "outputs": [
    {
     "data": {
      "text/plain": [
       "\"ok\""
      ]
     },
     "execution_count": 35,
     "metadata": {},
     "output_type": "execute_result"
    }
   ],
   "source": [
    "Ev3.speed_regulation(head, \"on\")\n",
    "Ev3.speed_sp(head, -50)\n",
    "Ev3.command(head, \"run-forever\")\n",
    "while Ev3.position(head) > zero_pos - 85 * 40/8\n",
    "end\n",
    "Ev3.speed_sp(head, 50)\n",
    "Ev3.command(head, \"run-forever\")\n",
    "while Ev3.position(head) < zero_pos + 85 * 40/8\n",
    "    distance = Ev3.values(us)[1]\n",
    "    if distance < 250 \n",
    "        yaw = (Ev3.position(head) - zero_pos) * pi / 180 * 8 / 40\n",
    "        x = distance * cos(yaw)\n",
    "        y = distance * sin(yaw)\n",
    "        push!(map, (x, y))\n",
    "    end\n",
    "end\n",
    "Ev3.speed_sp(head, -50)\n",
    "Ev3.command(head, \"run-forever\")\n",
    "while Ev3.position(head) > zero_pos\n",
    "end\n",
    "Ev3.stop(head, \"brake\")"
   ]
  },
  {
   "cell_type": "code",
   "execution_count": 38,
   "metadata": {
    "collapsed": false
   },
   "outputs": [
    {
     "data": {
      "text/plain": [
       "398-element Array{Any,1}:\n",
       " (5.69412362734898,-70.77130037039355)  \n",
       " (5.69412362734898,-70.77130037039355)  \n",
       " (6.644046920287109,-70.28667470097746) \n",
       " (7.421520892003396,-70.6110545711474)  \n",
       " (7.379709506696335,-70.2132458130001)  \n",
       " (7.379709506696335,-70.2132458130001)  \n",
       " (7.421520892003396,-70.6110545711474)  \n",
       " (8.359320162438967,-70.10336487232152) \n",
       " (9.635805642835614,-70.3430966734725)  \n",
       " (9.635805642835614,-70.3430966734725)  \n",
       " (9.635805642835614,-70.3430966734725)  \n",
       " (10.861994376166706,-70.16421508270525)\n",
       " (10.861994376166706,-70.16421508270525)\n",
       " ⋮                                      \n",
       " (6.666391535987136,47.433840492721224) \n",
       " (6.666391535987136,47.433840492721224) \n",
       " (6.666391535987136,47.433840492721224) \n",
       " (5.505489508608311,47.582555472258996) \n",
       " (5.671550081881396,47.56304783830313)  \n",
       " (5.671550081881396,47.56304783830313)  \n",
       " (5.671550081881396,47.56304783830313)  \n",
       " (5.671550081881396,47.56304783830313)  \n",
       " (5.505489508608311,47.582555472258996) \n",
       " (5.33936185268299,47.60148332779257)   \n",
       " (4.5077882079568345,47.687418104487534)\n",
       " (4.174760077612836,47.71772603859462)  "
      ]
     },
     "execution_count": 38,
     "metadata": {},
     "output_type": "execute_result"
    }
   ],
   "source": [
    "map"
   ]
  },
  {
   "cell_type": "code",
   "execution_count": 37,
   "metadata": {
    "collapsed": false
   },
   "outputs": [
    {
     "data": {
      "image/png": "[encoded data removed]",
      "text/plain": [
       "PyPlot.Figure(PyObject <matplotlib.figure.Figure object at 0x31a5c7210>)"
      ]
     },
     "metadata": {},
     "output_type": "display_data"
    },
    {
     "data": {
      "text/plain": [
       "(0.0,250.0,-100.0,150.0)"
      ]
     },
     "execution_count": 37,
     "metadata": {},
     "output_type": "execute_result"
    }
   ],
   "source": [
    "plot([x[1] for x in map], [x[2] for x in map], \"ro\")\n",
    "axis(\"equal\")"
   ]
  },
  {
   "cell_type": "code",
   "execution_count": 54,
   "metadata": {
    "collapsed": false
   },
   "outputs": [
    {
     "data": {
      "text/plain": [
       "\"ok\""
      ]
     },
     "execution_count": 54,
     "metadata": {},
     "output_type": "execute_result"
    }
   ],
   "source": [
    "Ev3.position_sp(head, -90)\n",
    "Ev3.command(head, \"run-to-rel-pos\")"
   ]
  },
  {
   "cell_type": "code",
   "execution_count": 53,
   "metadata": {
    "collapsed": false
   },
   "outputs": [
    {
     "data": {
      "text/plain": [
       "1"
      ]
     },
     "execution_count": 53,
     "metadata": {},
     "output_type": "execute_result"
    }
   ],
   "source": [
    "Ev3.position(head)"
   ]
  },
  {
   "cell_type": "code",
   "execution_count": 96,
   "metadata": {
    "collapsed": false
   },
   "outputs": [
    {
     "data": {
      "text/plain": [
       "\"ok\""
      ]
     },
     "execution_count": 96,
     "metadata": {},
     "output_type": "execute_result"
    }
   ],
   "source": [
    "Ev3.stop(head)"
   ]
  },
  {
   "cell_type": "code",
   "execution_count": 15,
   "metadata": {
    "collapsed": false
   },
   "outputs": [],
   "source": [
    "motors = Sides(Ev3.Motor(\"outC\", \"192.168.1.27\"), Ev3.Motor(\"outB\", \"192.168.1.27\"))\n",
    "for motor in motors\n",
    "    Ev3.polarity(motor, \"normal\")\n",
    "end\n",
    "for motor in motors\n",
    "    Ev3.run_at_speed(motor, -100)\n",
    "end\n",
    "sleep(3.0)\n",
    "for motor in motors\n",
    "    Ev3.stop(motor, \"brake\")\n",
    "end"
   ]
  },
  {
   "cell_type": "code",
   "execution_count": 28,
   "metadata": {
    "collapsed": false
   },
   "outputs": [
    {
     "name": "stdout",
     "output_type": "stream",
     "text": [
      "-1952.0 -1952.0\n",
      "-1952.0 -1953.0\n",
      "-1952.0 -1953.0\n",
      "-1952.0 -1959.0\n",
      "-1952.0 -1961.0\n",
      "-1952.0 -1961.0\n",
      "-1952.0 -1968.0\n",
      "-1952.0 -1970.0\n",
      "-1952.0 -1970.0\n",
      "-1952.0 -1972.0\n",
      "-1952.0 -1972.0\n",
      "-1952.0 -1977.0\n",
      "-1952.0 -1977.0\n",
      "-1952.0 -1977.0\n",
      "-1952.0 -1981.0\n",
      "-1952.0 -1981.0\n",
      "-1952.0 -1987.0\n",
      "-1952.0 -1987.0\n",
      "-1952.0 -1992.0\n",
      "-1952.0 -1992.0\n",
      "-1952.0 -1992.0\n",
      "-1952.0 -1997.0\n",
      "-1952.0 -1997.0\n",
      "-1952.0 -1999.0\n",
      "-1952.0 -2002.0\n",
      "-1952.0 -2002.0\n",
      "-1952.0 -2002.0\n",
      "-1952.0 -2007.0\n",
      "-1952.0 -2007.0\n",
      "-1952.0 -2010.0\n",
      "-1952.0 -2013.0\n",
      "-1952.0 -2013.0\n",
      "-1952.0 -2016.0\n",
      "-1952.0 -2021.0\n",
      "-1952.0 -2023.0\n",
      "-1952.0 -2023.0\n",
      "-1952.0 -2028.0\n",
      "-1952.0 -2028.0\n",
      "-1952.0 -2028.0\n",
      "-1952.0 -2033.0\n",
      "-1952.0 -2033.0\n",
      "-1952.0 -2033.0\n",
      "-1952.0 -2039.0\n",
      "-1952.0 -2039.0\n",
      "-1952.0 -2039.0\n"
     ]
    },
    {
     "data": {
      "text/plain": [
       "2-element Array{Any,1}:\n",
       " \"ok\"\n",
       " \"ok\""
      ]
     },
     "execution_count": 28,
     "metadata": {},
     "output_type": "execute_result"
    },
    {
     "name": "stdout",
     "output_type": "stream",
     "text": [
      "-1952.0 -2044.0\n"
     ]
    }
   ],
   "source": [
    "motors = Sides(Ev3.Motor(\"outC\", \"192.168.1.27\"), Ev3.Motor(\"outB\", \"192.168.1.27\"))\n",
    "gyro = Ev3.Sensor(\"in4\", \"192.168.1.27\")\n",
    "for motor in motors\n",
    "    Ev3.polarity(motor, \"normal\")\n",
    "end\n",
    "initial_angle = Ev3.values(gyro)[1]\n",
    "Ev3.run_at_speed(motors.right, 100)\n",
    "Ev3.run_at_speed(motors.left, -100)\n",
    "angle = Ev3.values(gyro)[1]\n",
    "while angle > initial_angle - 90\n",
    "    angle = Ev3.values(gyro)[1]\n",
    "    println(initial_angle, \" \", angle)\n",
    "end\n",
    "map(motor -> Ev3.stop(motor, \"brake\"), motors)"
   ]
  },
  {
   "cell_type": "code",
   "execution_count": 26,
   "metadata": {
    "collapsed": false
   },
   "outputs": [
    {
     "data": {
      "text/plain": [
       "2-element Array{Any,1}:\n",
       " \"ok\"\n",
       " \"ok\""
      ]
     },
     "execution_count": 26,
     "metadata": {},
     "output_type": "execute_result"
    }
   ],
   "source": [
    "map(x -> Ev3.stop(x, \"brake\"), motors)"
   ]
  },
  {
   "cell_type": "code",
   "execution_count": 24,
   "metadata": {
    "collapsed": false
   },
   "outputs": [
    {
     "name": "stderr",
     "output_type": "stream",
     "text": [
      "WARNING: replacing module Mapping\n"
     ]
    },
    {
     "data": {
      "text/plain": [
       "Mapping"
      ]
     },
     "execution_count": 24,
     "metadata": {},
     "output_type": "execute_result"
    }
   ],
   "source": []
  },
  {
   "cell_type": "code",
   "execution_count": null,
   "metadata": {
    "collapsed": true
   },
   "outputs": [],
   "source": []
  }
 ],
 "metadata": {
  "kernelspec": {
   "display_name": "Julia 0.4.1",
   "language": "julia",
   "name": "julia-0.4"
  },
  "language_info": {
   "file_extension": ".jl",
   "mimetype": "application/julia",
   "name": "julia",
   "version": "0.4.1"
  }
 },
 "nbformat": 4,
 "nbformat_minor": 0
}
