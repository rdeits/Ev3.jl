{
 "cells": [
  {
   "cell_type": "code",
   "execution_count": 61,
   "metadata": {
    "collapsed": false
   },
   "outputs": [
    {
     "name": "stderr",
     "output_type": "stream",
     "text": [
      "WARNING: replacing module Ev3dev\n",
      "WARNING: Method definition parse(Type{ASCIIString}, ASCIIString) in module Ev3dev at In[58]:5 overwritten in module Ev3dev at In[61]:5.\n",
      "WARNING: Method definition parse(Type{Array{ASCIIString, 1}}, ASCIIString) in module Ev3dev at In[58]:6 overwritten in module Ev3dev at In[61]:6.\n"
     ]
    }
   ],
   "source": [
    "module Ev3dev\n",
    "\n",
    "import Base: read, parse, write\n",
    "\n",
    "parse(::Type{ASCIIString}, s::ASCIIString) = s\n",
    "parse(::Type{Vector{ASCIIString}}, s::ASCIIString) = split(s)\n",
    "\n",
    "immutable Brick\n",
    "    root_path::AbstractString\n",
    "    \n",
    "    Brick(root_path::AbstractString=\"/\") = new(root_path)\n",
    "end\n",
    "\n",
    "immutable Attribute{T, Read, Write}\n",
    "    name::Symbol\n",
    "    stream::IOStream\n",
    "end\n",
    "\n",
    "function call{T, Read, Write}(::Type{Attribute{T, Read, Write}}, brick::Brick, relative_path::AbstractString, name)\n",
    "    path = joinpath(brick.root_path, relative_path, string(name))\n",
    "    isfile(path) || error(\"file not found: $path\")\n",
    "    Read && (isreadable(path) || error(\"read access for attribute $(path) was requested, but file is not readable\"))\n",
    "    Write && (iswritable(path) || error(\"write access for attribute $(path) was requested, but file is not writable\"))\n",
    "    stream = open(path, Read, Write, false, Write, false)\n",
    "    Attribute{T, Read, Write}(name, stream)\n",
    "end\n",
    "\n",
    "typealias ReadOnly{T} Attribute{T, true, false}\n",
    "typealias WriteOnly{T} Attribute{T, false, true}\n",
    "typealias ReadWrite{T} Attribute{T, true, true}\n",
    "    \n",
    "call{T, X}(attr::Attribute{T, true, X}) = parse(T, readchomp(seekstart(attr.stream)))\n",
    "function call{T, X}(attr::Attribute{T, X, true}, value::T)\n",
    "    write(seekstart(attr.stream), string(value))\n",
    "    flush(attr.stream)\n",
    "end\n",
    "\n",
    "abstract Device\n",
    "abstract AttributeSet\n",
    "\n",
    "type MotorAttributes <: AttributeSet\n",
    "    address::ReadOnly{ASCIIString}\n",
    "    commands::ReadOnly{Vector{ASCIIString}}\n",
    "    command::WriteOnly{ASCIIString}\n",
    "    speed_sp::ReadWrite{Int}\n",
    "    \n",
    "    MotorAttributes() = new()\n",
    "    \n",
    "end\n",
    "type Motor <: Device\n",
    "    attr::MotorAttributes\n",
    "    Motor(brick, path) = new(MotorAttributes(brick, path))\n",
    "end\n",
    "\n",
    "type SensorAttributes <: AttributeSet\n",
    "    address::ReadOnly{ASCIIString}\n",
    "    commands::ReadOnly{Vector{ASCIIString}}\n",
    "    command::WriteOnly{ASCIIString}\n",
    "    value0::ReadOnly{Int}\n",
    "    decimals::ReadOnly{Int}\n",
    "    \n",
    "    SensorAttributes() = new()\n",
    "end\n",
    "type Sensor <: Device\n",
    "    attr::SensorAttributes\n",
    "    Sensor(brick, path) = new(SensorAttributes(brick, path))\n",
    "end\n",
    "    \n",
    "\n",
    "function call{T <: AttributeSet}(::Type{T}, brick::Brick, path::AbstractString)\n",
    "    attr = T()\n",
    "    for name in fieldnames(T)\n",
    "        field_type = fieldtype(T, name)\n",
    "        setfield!(attr, name, field_type(brick, path, name))\n",
    "    end\n",
    "    attr\n",
    "end \n",
    "\n",
    "end\n",
    "\n",
    "import Ev3dev"
   ]
  },
  {
   "cell_type": "code",
   "execution_count": 63,
   "metadata": {
    "collapsed": false
   },
   "outputs": [
    {
     "data": {
      "text/plain": [
       "Ev3dev.Sensor(Ev3dev.SensorAttributes(Ev3dev.Attribute{ASCIIString,true,false}(:address,IOStream(<file /home/pi/ev3/sys/class/lego-sensor/sensor0/address>)),Ev3dev.Attribute{Array{ASCIIString,1},true,false}(:commands,IOStream(<file /home/pi/ev3/sys/class/lego-sensor/sensor0/commands>)),Ev3dev.Attribute{ASCIIString,false,true}(:command,IOStream(<file /home/pi/ev3/sys/class/lego-sensor/sensor0/command>)),Ev3dev.Attribute{Int32,true,false}(:value0,IOStream(<file /home/pi/ev3/sys/class/lego-sensor/sensor0/value0>)),Ev3dev.Attribute{Int32,true,false}(:decimals,IOStream(<file /home/pi/ev3/sys/class/lego-sensor/sensor0/decimals>))))"
      ]
     },
     "execution_count": 63,
     "metadata": {},
     "output_type": "execute_result"
    }
   ],
   "source": [
    "brick = Ev3dev.Brick(\"/home/pi/ev3\")\n",
    "motor = Ev3dev.Motor(brick, \"sys/class/tacho-motor/motor0\")\n",
    "sensor = Ev3dev.Sensor(brick, \"sys/class/lego-sensor/sensor0\")"
   ]
  },
  {
   "cell_type": "code",
   "execution_count": 66,
   "metadata": {
    "collapsed": false
   },
   "outputs": [
    {
     "data": {
      "text/plain": [
       "569"
      ]
     },
     "execution_count": 66,
     "metadata": {},
     "output_type": "execute_result"
    }
   ],
   "source": [
    "sensor.attr.value0()"
   ]
  },
  {
   "cell_type": "code",
   "execution_count": 60,
   "metadata": {
    "collapsed": false
   },
   "outputs": [
    {
     "data": {
      "text/plain": [
       "\"outA\""
      ]
     },
     "execution_count": 60,
     "metadata": {},
     "output_type": "execute_result"
    }
   ],
   "source": [
    "motor.attr.address()"
   ]
  },
  {
   "cell_type": "code",
   "execution_count": 55,
   "metadata": {
    "collapsed": false
   },
   "outputs": [
    {
     "data": {
      "text/plain": [
       "IOStream(<file /home/pi/ev3/sys/class/tacho-motor/motor0/speed_sp>)"
      ]
     },
     "execution_count": 55,
     "metadata": {},
     "output_type": "execute_result"
    }
   ],
   "source": [
    "motor.attr.speed_sp(500)"
   ]
  },
  {
   "cell_type": "code",
   "execution_count": 56,
   "metadata": {
    "collapsed": false
   },
   "outputs": [
    {
     "data": {
      "text/plain": [
       "IOStream(<file /home/pi/ev3/sys/class/tacho-motor/motor0/command>)"
      ]
     },
     "execution_count": 56,
     "metadata": {},
     "output_type": "execute_result"
    }
   ],
   "source": [
    "motor.attr.command(\"run-forever\")"
   ]
  },
  {
   "cell_type": "code",
   "execution_count": 57,
   "metadata": {
    "collapsed": false
   },
   "outputs": [
    {
     "data": {
      "text/plain": [
       "IOStream(<file /home/pi/ev3/sys/class/tacho-motor/motor0/command>)"
      ]
     },
     "execution_count": 57,
     "metadata": {},
     "output_type": "execute_result"
    }
   ],
   "source": [
    "motor.attr.command(\"stop\")"
   ]
  },
  {
   "cell_type": "code",
   "execution_count": null,
   "metadata": {
    "collapsed": true
   },
   "outputs": [],
   "source": []
  }
 ],
 "metadata": {
  "kernelspec": {
   "display_name": "Julia 0.4.5",
   "language": "julia",
   "name": "julia-0.4"
  },
  "language_info": {
   "file_extension": ".jl",
   "mimetype": "application/julia",
   "name": "julia",
   "version": "0.4.5"
  }
 },
 "nbformat": 4,
 "nbformat_minor": 0
}
