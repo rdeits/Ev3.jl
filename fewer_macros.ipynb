{
 "cells": [
  {
   "cell_type": "code",
   "execution_count": 68,
   "metadata": {
    "collapsed": false
   },
   "outputs": [
    {
     "name": "stderr",
     "output_type": "stream",
     "text": [
      "WARNING: replacing module Ev3dev\n",
      "WARNING: Method definition parse(Type{ASCIIString}, ASCIIString) in module Ev3dev at In[66]:5 overwritten in module Ev3dev at In[68]:5.\n",
      "WARNING: Method definition parse(Type{Array{ASCIIString, 1}}, ASCIIString) in module Ev3dev at In[66]:6 overwritten in module Ev3dev at In[68]:6.\n"
     ]
    }
   ],
   "source": [
    "module Ev3dev\n",
    "\n",
    "import Base: read, parse, write, call\n",
    "\n",
    "parse(::Type{ASCIIString}, s::ASCIIString) = s\n",
    "parse(::Type{Vector{ASCIIString}}, s::ASCIIString) = split(s)\n",
    "\n",
    "immutable Brick\n",
    "    root_path::AbstractString\n",
    "    \n",
    "    Brick(root_path::AbstractString=\"/\") = new(root_path)\n",
    "end\n",
    "\n",
    "immutable Attribute{T, Read, Write}\n",
    "    name::Symbol\n",
    "    stream::IOStream\n",
    "end\n",
    "\n",
    "function call{T, Read, Write}(::Type{Attribute{T, Read, Write}}, brick::Brick, relative_path::AbstractString, name)\n",
    "    path = joinpath(brick.root_path, relative_path, string(name))\n",
    "    isfile(path) || error(\"file not found: $path\")\n",
    "    Read && (isreadable(path) || error(\"read access for attribute $(path) was requested, but file is not readable\"))\n",
    "    Write && (iswritable(path) || error(\"write access for attribute $(path) was requested, but file is not writable\"))\n",
    "    stream = open(path, Read, Write, false, Write, false)\n",
    "    Attribute{T, Read, Write}(name, stream)\n",
    "end\n",
    "\n",
    "typealias ReadOnly{T} Attribute{T, true, false}\n",
    "typealias WriteOnly{T} Attribute{T, false, true}\n",
    "typealias ReadWrite{T} Attribute{T, true, true}\n",
    "    \n",
    "call{T, X}(attr::Attribute{T, true, X}) = parse(T, chomp(strip(readline(seekstart(attr.stream)), '\\0')))\n",
    "function call{T, X}(attr::Attribute{T, X, true}, value::T)\n",
    "    write(seekstart(attr.stream), string(value))\n",
    "    flush(attr.stream)\n",
    "end\n",
    "\n",
    "abstract Class{Name}\n",
    "\n",
    "function call{T <: Class}(::Type{T}, brick::Brick, path::AbstractString)\n",
    "    attr = T()\n",
    "    for name in fieldnames(T)\n",
    "        field_type = fieldtype(T, name)\n",
    "        setfield!(attr, name, field_type(brick, path, name))\n",
    "    end\n",
    "    attr\n",
    "end\n",
    "\n",
    "abstract Driver{Name}\n",
    "type Device{C <: Class, D <: Driver}\n",
    "    attr::C\n",
    "    commands::Set{ASCIIString}\n",
    "    \n",
    "    function Device(brick, path)\n",
    "        attr = C(brick, path)\n",
    "        \n",
    "        commands = Set{ASCIIString}(attr.commands())\n",
    "        new(attr, commands)\n",
    "    end\n",
    "end\n",
    "\n",
    "name{C <: Class}(::Type{C}) = C.super.parameters[1]\n",
    "class_path{C <: Class, D <: Driver}(::Type{Device{C, D}}) = joinpath(\"sys/class\", replace(string(name(C)), '_', '-'))\n",
    "name{N}(::Type{Driver{N}}) = N\n",
    "driver_name{C, D <: Driver}(::Type{Device{C, D}}) = replace(string(name(D)), '_', '-')\n",
    "\n",
    "type TachoMotor <: Class{:tacho_motor}\n",
    "    address::ReadOnly{ASCIIString}\n",
    "    commands::ReadOnly{Vector{ASCIIString}}\n",
    "    driver_name::ReadOnly{ASCIIString}\n",
    "    command::WriteOnly{ASCIIString}\n",
    "    count_per_rot::ReadOnly{Int}\n",
    "    duty_cycle::ReadOnly{Int}\n",
    "    duty_cycle_sp::ReadWrite{Int}    \n",
    "    speed_sp::ReadWrite{Int}\n",
    "    position_sp::ReadWrite{Int}\n",
    "    polarity::ReadWrite{ASCIIString}\n",
    "    stop_action::ReadWrite{ASCIIString}\n",
    "    stop_actions::ReadOnly{Vector{ASCIIString}}\n",
    "    \n",
    "    TachoMotor() = new()\n",
    "end\n",
    "\n",
    "typealias LargeMotor Device{TachoMotor, Driver{:lego_ev3_l_motor}}\n",
    "typealias MediumMotor Device{TachoMotor, Driver{:lego_ev3_m_motor}}\n",
    "\n",
    "type LegoSensor <: Class{:lego_sensor}\n",
    "    address::ReadOnly{ASCIIString}\n",
    "    commands::ReadOnly{Vector{ASCIIString}}\n",
    "    driver_name::ReadOnly{ASCIIString}\n",
    "    command::WriteOnly{ASCIIString}\n",
    "    value0::ReadOnly{Int}\n",
    "    value1::ReadOnly{Int}\n",
    "    value2::ReadOnly{Int}\n",
    "    value3::ReadOnly{Int}\n",
    "    value4::ReadOnly{Int}\n",
    "    value5::ReadOnly{Int}\n",
    "    value6::ReadOnly{Int}\n",
    "    value7::ReadOnly{Int}\n",
    "    num_values::ReadOnly{Int}\n",
    "    decimals::ReadOnly{Int}\n",
    "    modes::ReadOnly{Vector{ASCIIString}}\n",
    "    mode::ReadWrite{ASCIIString}\n",
    "    bin_data::ReadOnly{ASCIIString}\n",
    "    bin_data_format::ReadOnly{ASCIIString}\n",
    "    poll_ms::ReadWrite{Int}\n",
    "    \n",
    "    LegoSensor() = new()\n",
    "end\n",
    "\n",
    "typealias Ultrasound Device{LegoSensor, Driver{:lego_ev3_us}}\n",
    "typealias ColorSensor Device{LegoSensor, Driver{:lego_ev3_color}}\n",
    "\n",
    "command(dev::Device, data::AbstractString) = in(data, dev.commands) ? dev.attr.command(data) : error(\"command $(data) not supported by device\")\n",
    "\n",
    "function values(sensor::Device{LegoSensor})\n",
    "    vals = Vector{Float64}(sensor.attr.num_values())\n",
    "    dec = sensor.attr.decimals()\n",
    "    multiplier = 10.0 ^ (-dec)\n",
    "    for j = 1:length(vals)\n",
    "        vals[j] = multiplier * getfield(sensor.attr, symbol(:value, j-1))()\n",
    "    end\n",
    "    vals\n",
    "end\n",
    "\n",
    "function find_devices{T <: Device}(::Type{T}, brick::Brick)\n",
    "    path = joinpath(brick.root_path, class_path(T))\n",
    "    devices = Vector{T}()\n",
    "    driver = driver_name(T)\n",
    "    for dir in readdir(path)\n",
    "        device_driver = open(joinpath(path, dir, \"driver_name\")) do f\n",
    "            readchomp(f)\n",
    "        end\n",
    "        if device_driver == driver\n",
    "            push!(devices, T(brick, joinpath(path, dir)))\n",
    "        end\n",
    "    end\n",
    "    devices\n",
    "end\n",
    "\n",
    "function find_device_at_address{T <: Device}(::Type{T}, brick::Brick, address::AbstractString)\n",
    "    for dev in find_devices(T, brick)\n",
    "        if dev.attr.address() == address\n",
    "            return dev\n",
    "        end\n",
    "    end\n",
    "    nothing\n",
    "end\n",
    "\n",
    "end\n",
    "\n",
    "import Ev3dev"
   ]
  },
  {
   "cell_type": "code",
   "execution_count": 69,
   "metadata": {
    "collapsed": false
   },
   "outputs": [
    {
     "data": {
      "text/plain": [
       "Ev3dev.Device{Ev3dev.LegoSensor,Ev3dev.Driver{:lego_ev3_us}}(Ev3dev.LegoSensor(Ev3dev.Attribute{ASCIIString,true,false}(:address,IOStream(<file /home/pi/ev3/sys/class/lego-sensor/sensor0/address>)),Ev3dev.Attribute{Array{ASCIIString,1},true,false}(:commands,IOStream(<file /home/pi/ev3/sys/class/lego-sensor/sensor0/commands>)),Ev3dev.Attribute{ASCIIString,true,false}(:driver_name,IOStream(<file /home/pi/ev3/sys/class/lego-sensor/sensor0/driver_name>)),Ev3dev.Attribute{ASCIIString,false,true}(:command,IOStream(<file /home/pi/ev3/sys/class/lego-sensor/sensor0/command>)),Ev3dev.Attribute{Int32,true,false}(:value0,IOStream(<file /home/pi/ev3/sys/class/lego-sensor/sensor0/value0>)),Ev3dev.Attribute{Int32,true,false}(:value1,IOStream(<file /home/pi/ev3/sys/class/lego-sensor/sensor0/value1>)),Ev3dev.Attribute{Int32,true,false}(:value2,IOStream(<file /home/pi/ev3/sys/class/lego-sensor/sensor0/value2>)),Ev3dev.Attribute{Int32,true,false}(:value3,IOStream(<file /home/pi/ev3/sys/class/lego-sensor/sensor0/value3>)),Ev3dev.Attribute{Int32,true,false}(:value4,IOStream(<file /home/pi/ev3/sys/class/lego-sensor/sensor0/value4>)),Ev3dev.Attribute{Int32,true,false}(:value5,IOStream(<file /home/pi/ev3/sys/class/lego-sensor/sensor0/value5>)),Ev3dev.Attribute{Int32,true,false}(:value6,IOStream(<file /home/pi/ev3/sys/class/lego-sensor/sensor0/value6>)),Ev3dev.Attribute{Int32,true,false}(:value7,IOStream(<file /home/pi/ev3/sys/class/lego-sensor/sensor0/value7>)),Ev3dev.Attribute{Int32,true,false}(:num_values,IOStream(<file /home/pi/ev3/sys/class/lego-sensor/sensor0/num_values>)),Ev3dev.Attribute{Int32,true,false}(:decimals,IOStream(<file /home/pi/ev3/sys/class/lego-sensor/sensor0/decimals>)),Ev3dev.Attribute{Array{ASCIIString,1},true,false}(:modes,IOStream(<file /home/pi/ev3/sys/class/lego-sensor/sensor0/modes>)),Ev3dev.Attribute{ASCIIString,true,true}(:mode,IOStream(<file /home/pi/ev3/sys/class/lego-sensor/sensor0/mode>)),Ev3dev.Attribute{ASCIIString,true,false}(:bin_data,IOStream(<file /home/pi/ev3/sys/class/lego-sensor/sensor0/bin_data>)),Ev3dev.Attribute{ASCIIString,true,false}(:bin_data_format,IOStream(<file /home/pi/ev3/sys/class/lego-sensor/sensor0/bin_data_format>)),Ev3dev.Attribute{Int32,true,true}(:poll_ms,IOStream(<file /home/pi/ev3/sys/class/lego-sensor/sensor0/poll_ms>))),Set{ASCIIString}())"
      ]
     },
     "execution_count": 69,
     "metadata": {},
     "output_type": "execute_result"
    }
   ],
   "source": [
    "brick = Ev3dev.Brick(\"/home/pi/ev3\")\n",
    "motor = Ev3dev.find_devices(Ev3dev.MediumMotor, brick)[1]\n",
    "ultrasound = Ev3dev.find_devices(Ev3dev.Ultrasound, brick)[1]"
   ]
  },
  {
   "cell_type": "code",
   "execution_count": 41,
   "metadata": {
    "collapsed": false
   },
   "outputs": [
    {
     "data": {
      "text/plain": [
       "Ev3dev.Attribute{Int32,true,false}(:value0,IOStream(<file /home/pi/ev3/sys/class/lego-sensor/sensor0/value0>))"
      ]
     },
     "execution_count": 41,
     "metadata": {},
     "output_type": "execute_result"
    }
   ],
   "source": [
    "ultrasound.attr.value0"
   ]
  },
  {
   "cell_type": "code",
   "execution_count": 49,
   "metadata": {
    "collapsed": false
   },
   "outputs": [
    {
     "data": {
      "text/plain": [
       "714"
      ]
     },
     "execution_count": 49,
     "metadata": {},
     "output_type": "execute_result"
    }
   ],
   "source": [
    "ultrasound.attr.value0()"
   ]
  },
  {
   "cell_type": "code",
   "execution_count": 50,
   "metadata": {
    "collapsed": false
   },
   "outputs": [
    {
     "data": {
      "text/plain": [
       "1-element Array{Float64,1}:\n",
       " 71.4"
      ]
     },
     "execution_count": 50,
     "metadata": {},
     "output_type": "execute_result"
    }
   ],
   "source": [
    "Ev3dev.values(ultrasound)"
   ]
  },
  {
   "cell_type": "code",
   "execution_count": 51,
   "metadata": {
    "collapsed": false
   },
   "outputs": [
    {
     "data": {
      "text/plain": [
       "\"outA\""
      ]
     },
     "execution_count": 51,
     "metadata": {},
     "output_type": "execute_result"
    }
   ],
   "source": [
    "motor.attr.address()"
   ]
  },
  {
   "cell_type": "code",
   "execution_count": 52,
   "metadata": {
    "collapsed": false
   },
   "outputs": [
    {
     "data": {
      "text/plain": [
       "IOStream(<file /home/pi/ev3/sys/class/tacho-motor/motor0/speed_sp>)"
      ]
     },
     "execution_count": 52,
     "metadata": {},
     "output_type": "execute_result"
    }
   ],
   "source": [
    "motor.attr.speed_sp(500)"
   ]
  },
  {
   "cell_type": "code",
   "execution_count": 53,
   "metadata": {
    "collapsed": false
   },
   "outputs": [
    {
     "data": {
      "text/plain": [
       "IOStream(<file /home/pi/ev3/sys/class/tacho-motor/motor0/command>)"
      ]
     },
     "execution_count": 53,
     "metadata": {},
     "output_type": "execute_result"
    }
   ],
   "source": [
    "motor.attr.command(\"run-forever\")"
   ]
  },
  {
   "cell_type": "code",
   "execution_count": 54,
   "metadata": {
    "collapsed": false
   },
   "outputs": [
    {
     "data": {
      "text/plain": [
       "IOStream(<file /home/pi/ev3/sys/class/tacho-motor/motor0/command>)"
      ]
     },
     "execution_count": 54,
     "metadata": {},
     "output_type": "execute_result"
    }
   ],
   "source": [
    "Ev3dev.command(motor, \"stop\")"
   ]
  },
  {
   "cell_type": "code",
   "execution_count": null,
   "metadata": {
    "collapsed": true
   },
   "outputs": [],
   "source": []
  }
 ],
 "metadata": {
  "kernelspec": {
   "display_name": "Julia 0.4.5",
   "language": "julia",
   "name": "julia-0.4"
  },
  "language_info": {
   "file_extension": ".jl",
   "mimetype": "application/julia",
   "name": "julia",
   "version": "0.4.5"
  }
 },
 "nbformat": 4,
 "nbformat_minor": 0
}
