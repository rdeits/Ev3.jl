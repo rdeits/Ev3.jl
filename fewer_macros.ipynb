{
 "cells": [
  {
   "cell_type": "code",
   "execution_count": 150,
   "metadata": {
    "collapsed": false
   },
   "outputs": [
    {
     "name": "stderr",
     "output_type": "stream",
     "text": [
      "WARNING: replacing module Ev3dev\n",
      "WARNING: Method definition parse(Type{ASCIIString}, ASCIIString) in module Ev3dev at In[148]:5 overwritten in module Ev3dev at In[150]:5.\n",
      "WARNING: Method definition parse(Type{Array{ASCIIString, 1}}, ASCIIString) in module Ev3dev at In[148]:6 overwritten in module Ev3dev at In[150]:6.\n"
     ]
    }
   ],
   "source": [
    "module Ev3dev\n",
    "\n",
    "import Base: read, parse, write, call\n",
    "\n",
    "parse(::Type{ASCIIString}, s::ASCIIString) = s\n",
    "parse(::Type{Vector{ASCIIString}}, s::ASCIIString) = split(s)\n",
    "\n",
    "immutable Brick\n",
    "    root_path::AbstractString\n",
    "    \n",
    "    Brick(root_path::AbstractString=\"/\") = new(root_path)\n",
    "end\n",
    "\n",
    "immutable Attribute{T, Read, Write}\n",
    "    name::Symbol\n",
    "    stream::IOStream\n",
    "end\n",
    "\n",
    "function call{T, Read, Write}(::Type{Attribute{T, Read, Write}}, brick::Brick, relative_path::AbstractString, name)\n",
    "    path = joinpath(brick.root_path, relative_path, string(name))\n",
    "    isfile(path) || error(\"file not found: $path\")\n",
    "    Read && (isreadable(path) || error(\"read access for attribute $(path) was requested, but file is not readable\"))\n",
    "    Write && (iswritable(path) || error(\"write access for attribute $(path) was requested, but file is not writable\"))\n",
    "    stream = open(path, Read, Write, false, Write, false)\n",
    "    Attribute{T, Read, Write}(name, stream)\n",
    "end\n",
    "\n",
    "typealias ReadOnly{T} Attribute{T, true, false}\n",
    "typealias WriteOnly{T} Attribute{T, false, true}\n",
    "typealias ReadWrite{T} Attribute{T, true, true}\n",
    "    \n",
    "call{T, X}(attr::Attribute{T, true, X}) = parse(T, chomp(strip(readline(seekstart(attr.stream)), '\\0')))\n",
    "function call{T, X}(attr::Attribute{T, X, true}, value::T)\n",
    "    write(seekstart(attr.stream), string(value))\n",
    "    flush(attr.stream)\n",
    "end\n",
    "\n",
    "abstract AttributeSet\n",
    "\n",
    "function call{T <: AttributeSet}(::Type{T}, brick::Brick, path::AbstractString)\n",
    "    attr = T()\n",
    "    for name in fieldnames(T)\n",
    "        field_type = fieldtype(T, name)\n",
    "        setfield!(attr, name, field_type(brick, path, name))\n",
    "    end\n",
    "    attr\n",
    "end \n",
    "\n",
    "type Device{AttributesType <: AttributeSet}\n",
    "    attr::AttributesType\n",
    "    commands::Set{ASCIIString}\n",
    "    \n",
    "    function Device(brick, path)\n",
    "        attr = AttributesType(brick, path)\n",
    "        \n",
    "        commands = Set{ASCIIString}(attr.commands())\n",
    "        new(attr, commands)\n",
    "    end\n",
    "end\n",
    "\n",
    "type MotorAttributes <: AttributeSet\n",
    "    address::ReadOnly{ASCIIString}\n",
    "    commands::ReadOnly{Vector{ASCIIString}}\n",
    "    driver_name::ReadOnly{ASCIIString}\n",
    "    command::WriteOnly{ASCIIString}\n",
    "\n",
    "    count_per_rot::ReadOnly{Int}\n",
    "    duty_cycle::ReadOnly{Int}\n",
    "    duty_cycle_sp::ReadWrite{Int}    \n",
    "    speed_sp::ReadWrite{Int}\n",
    "    position_sp::ReadWrite{Int}\n",
    "    polarity::ReadWrite{ASCIIString}\n",
    "    stop_action::ReadWrite{ASCIIString}\n",
    "    stop_actions::ReadOnly{Vector{ASCIIString}}\n",
    "    \n",
    "    MotorAttributes() = new()\n",
    "end\n",
    "\n",
    "typealias Motor Device{MotorAttributes}\n",
    "\n",
    "type SensorAttributes <: AttributeSet\n",
    "    address::ReadOnly{ASCIIString}\n",
    "    commands::ReadOnly{Vector{ASCIIString}}\n",
    "    driver_name::ReadOnly{ASCIIString}\n",
    "    command::WriteOnly{ASCIIString}\n",
    "    \n",
    "    value0::ReadOnly{Int}\n",
    "    value1::ReadOnly{Int}\n",
    "    value2::ReadOnly{Int}\n",
    "    value3::ReadOnly{Int}\n",
    "    value4::ReadOnly{Int}\n",
    "    value5::ReadOnly{Int}\n",
    "    value6::ReadOnly{Int}\n",
    "    value7::ReadOnly{Int}\n",
    "    num_values::ReadOnly{Int}\n",
    "    decimals::ReadOnly{Int}\n",
    "    modes::ReadOnly{Vector{ASCIIString}}\n",
    "    mode::ReadWrite{ASCIIString}\n",
    "    bin_data::ReadOnly{ASCIIString}\n",
    "    bin_data_format::ReadOnly{ASCIIString}\n",
    "    poll_ms::ReadWrite{Int}\n",
    "    \n",
    "    SensorAttributes() = new()\n",
    "end\n",
    "\n",
    "typealias Sensor Device{SensorAttributes}\n",
    "\n",
    "command(dev::Device, data::AbstractString) = in(data, dev.commands) ? dev.attr.command(data) : error(\"command $(data) not supported by device\")\n",
    "\n",
    "function values(sensor::Device{SensorAttributes})\n",
    "    vals = Vector{Float64}(sensor.attr.num_values())\n",
    "    dec = sensor.attr.decimals()\n",
    "    multiplier = 10.0 ^ (-dec)\n",
    "    for j = 1:length(vals)\n",
    "        vals[j] = multiplier * getfield(sensor.attr, symbol(:value, j-1))()\n",
    "    end\n",
    "    vals\n",
    "end\n",
    "\n",
    "end\n",
    "\n",
    "import Ev3dev"
   ]
  },
  {
   "cell_type": "code",
   "execution_count": 151,
   "metadata": {
    "collapsed": false
   },
   "outputs": [
    {
     "data": {
      "text/plain": [
       "Ev3dev.Device{Ev3dev.SensorAttributes}(Ev3dev.SensorAttributes(Ev3dev.Attribute{ASCIIString,true,false}(:address,IOStream(<file /home/pi/ev3/sys/class/lego-sensor/sensor0/address>)),Ev3dev.Attribute{Array{ASCIIString,1},true,false}(:commands,IOStream(<file /home/pi/ev3/sys/class/lego-sensor/sensor0/commands>)),Ev3dev.Attribute{ASCIIString,true,false}(:driver_name,IOStream(<file /home/pi/ev3/sys/class/lego-sensor/sensor0/driver_name>)),Ev3dev.Attribute{ASCIIString,false,true}(:command,IOStream(<file /home/pi/ev3/sys/class/lego-sensor/sensor0/command>)),Ev3dev.Attribute{Int32,true,false}(:value0,IOStream(<file /home/pi/ev3/sys/class/lego-sensor/sensor0/value0>)),Ev3dev.Attribute{Int32,true,false}(:value1,IOStream(<file /home/pi/ev3/sys/class/lego-sensor/sensor0/value1>)),Ev3dev.Attribute{Int32,true,false}(:value2,IOStream(<file /home/pi/ev3/sys/class/lego-sensor/sensor0/value2>)),Ev3dev.Attribute{Int32,true,false}(:value3,IOStream(<file /home/pi/ev3/sys/class/lego-sensor/sensor0/value3>)),Ev3dev.Attribute{Int32,true,false}(:value4,IOStream(<file /home/pi/ev3/sys/class/lego-sensor/sensor0/value4>)),Ev3dev.Attribute{Int32,true,false}(:value5,IOStream(<file /home/pi/ev3/sys/class/lego-sensor/sensor0/value5>)),Ev3dev.Attribute{Int32,true,false}(:value6,IOStream(<file /home/pi/ev3/sys/class/lego-sensor/sensor0/value6>)),Ev3dev.Attribute{Int32,true,false}(:value7,IOStream(<file /home/pi/ev3/sys/class/lego-sensor/sensor0/value7>)),Ev3dev.Attribute{Int32,true,false}(:num_values,IOStream(<file /home/pi/ev3/sys/class/lego-sensor/sensor0/num_values>)),Ev3dev.Attribute{Int32,true,false}(:decimals,IOStream(<file /home/pi/ev3/sys/class/lego-sensor/sensor0/decimals>)),Ev3dev.Attribute{Array{ASCIIString,1},true,false}(:modes,IOStream(<file /home/pi/ev3/sys/class/lego-sensor/sensor0/modes>)),Ev3dev.Attribute{ASCIIString,true,true}(:mode,IOStream(<file /home/pi/ev3/sys/class/lego-sensor/sensor0/mode>)),Ev3dev.Attribute{ASCIIString,true,false}(:bin_data,IOStream(<file /home/pi/ev3/sys/class/lego-sensor/sensor0/bin_data>)),Ev3dev.Attribute{ASCIIString,true,false}(:bin_data_format,IOStream(<file /home/pi/ev3/sys/class/lego-sensor/sensor0/bin_data_format>)),Ev3dev.Attribute{Int32,true,true}(:poll_ms,IOStream(<file /home/pi/ev3/sys/class/lego-sensor/sensor0/poll_ms>))),Set{ASCIIString}())"
      ]
     },
     "execution_count": 151,
     "metadata": {},
     "output_type": "execute_result"
    }
   ],
   "source": [
    "brick = Ev3dev.Brick(\"/home/pi/ev3\")\n",
    "motor = Ev3dev.Motor(brick, \"sys/class/tacho-motor/motor0\")\n",
    "sensor = Ev3dev.Sensor(brick, \"sys/class/lego-sensor/sensor0\")"
   ]
  },
  {
   "cell_type": "code",
   "execution_count": 152,
   "metadata": {
    "collapsed": false
   },
   "outputs": [
    {
     "data": {
      "text/plain": [
       "562"
      ]
     },
     "execution_count": 152,
     "metadata": {},
     "output_type": "execute_result"
    }
   ],
   "source": [
    "sensor.attr.value0()"
   ]
  },
  {
   "cell_type": "code",
   "execution_count": 153,
   "metadata": {
    "collapsed": false
   },
   "outputs": [
    {
     "data": {
      "text/plain": [
       "1-element Array{Float64,1}:\n",
       " 57.0"
      ]
     },
     "execution_count": 153,
     "metadata": {},
     "output_type": "execute_result"
    }
   ],
   "source": [
    "Ev3dev.values(sensor)"
   ]
  },
  {
   "cell_type": "code",
   "execution_count": 154,
   "metadata": {
    "collapsed": false
   },
   "outputs": [
    {
     "data": {
      "text/plain": [
       "\"outA\""
      ]
     },
     "execution_count": 154,
     "metadata": {},
     "output_type": "execute_result"
    }
   ],
   "source": [
    "motor.attr.address()"
   ]
  },
  {
   "cell_type": "code",
   "execution_count": 155,
   "metadata": {
    "collapsed": false
   },
   "outputs": [
    {
     "data": {
      "text/plain": [
       "IOStream(<file /home/pi/ev3/sys/class/tacho-motor/motor0/speed_sp>)"
      ]
     },
     "execution_count": 155,
     "metadata": {},
     "output_type": "execute_result"
    }
   ],
   "source": [
    "motor.attr.speed_sp(500)"
   ]
  },
  {
   "cell_type": "code",
   "execution_count": 156,
   "metadata": {
    "collapsed": false
   },
   "outputs": [
    {
     "data": {
      "text/plain": [
       "IOStream(<file /home/pi/ev3/sys/class/tacho-motor/motor0/command>)"
      ]
     },
     "execution_count": 156,
     "metadata": {},
     "output_type": "execute_result"
    }
   ],
   "source": [
    "motor.attr.command(\"run-forever\")"
   ]
  },
  {
   "cell_type": "code",
   "execution_count": 157,
   "metadata": {
    "collapsed": false
   },
   "outputs": [
    {
     "data": {
      "text/plain": [
       "IOStream(<file /home/pi/ev3/sys/class/tacho-motor/motor0/command>)"
      ]
     },
     "execution_count": 157,
     "metadata": {},
     "output_type": "execute_result"
    }
   ],
   "source": [
    "Ev3dev.command(motor, \"stop\")"
   ]
  },
  {
   "cell_type": "code",
   "execution_count": null,
   "metadata": {
    "collapsed": true
   },
   "outputs": [],
   "source": []
  }
 ],
 "metadata": {
  "kernelspec": {
   "display_name": "Julia 0.4.5",
   "language": "julia",
   "name": "julia-0.4"
  },
  "language_info": {
   "file_extension": ".jl",
   "mimetype": "application/julia",
   "name": "julia",
   "version": "0.4.5"
  }
 },
 "nbformat": 4,
 "nbformat_minor": 0
}
